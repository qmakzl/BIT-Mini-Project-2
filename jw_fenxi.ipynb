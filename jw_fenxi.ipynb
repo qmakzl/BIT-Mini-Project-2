{
 "cells": [
  {
   "cell_type": "code",
   "execution_count": 230,
   "metadata": {},
   "outputs": [
    {
     "data": {
      "text/html": [
       "        <script type=\"text/javascript\">\n",
       "        window.PlotlyConfig = {MathJaxConfig: 'local'};\n",
       "        if (window.MathJax) {MathJax.Hub.Config({SVG: {font: \"STIX-Web\"}});}\n",
       "        if (typeof require !== 'undefined') {\n",
       "        require.undef(\"plotly\");\n",
       "        requirejs.config({\n",
       "            paths: {\n",
       "                'plotly': ['https://cdn.plot.ly/plotly-latest.min']\n",
       "            }\n",
       "        });\n",
       "        require(['plotly'], function(Plotly) {\n",
       "            window._Plotly = Plotly;\n",
       "        });\n",
       "        }\n",
       "        </script>\n",
       "        "
      ]
     },
     "metadata": {},
     "output_type": "display_data"
    }
   ],
   "source": [
    "import pandas as pd\n",
    "import missingno as msno\n",
    "import numpy as np\n",
    "import seaborn as sns\n",
    "data1=pd. read_csv('winemag-data-130k-v2.csv')\n",
    "data2=pd. read_csv('winemag-data_first150k.csv')\n",
    "import cufflinks as cf\n",
    "cf.go_offline()"
   ]
  },
  {
   "cell_type": "code",
   "execution_count": 231,
   "metadata": {},
   "outputs": [
    {
     "name": "stdout",
     "output_type": "stream",
     "text": [
      "<class 'pandas.core.frame.DataFrame'>\n",
      "RangeIndex: 129971 entries, 0 to 129970\n",
      "Data columns (total 14 columns):\n",
      " #   Column                 Non-Null Count   Dtype  \n",
      "---  ------                 --------------   -----  \n",
      " 0   Unnamed: 0             129971 non-null  int64  \n",
      " 1   country                129908 non-null  object \n",
      " 2   description            129971 non-null  object \n",
      " 3   designation            92506 non-null   object \n",
      " 4   points                 129971 non-null  int64  \n",
      " 5   price                  120975 non-null  float64\n",
      " 6   province               129908 non-null  object \n",
      " 7   region_1               108724 non-null  object \n",
      " 8   region_2               50511 non-null   object \n",
      " 9   taster_name            103727 non-null  object \n",
      " 10  taster_twitter_handle  98758 non-null   object \n",
      " 11  title                  129971 non-null  object \n",
      " 12  variety                129970 non-null  object \n",
      " 13  winery                 129971 non-null  object \n",
      "dtypes: float64(1), int64(2), object(11)\n",
      "memory usage: 13.9+ MB\n"
     ]
    }
   ],
   "source": [
    "data1.info()"
   ]
  },
  {
   "cell_type": "code",
   "execution_count": 232,
   "metadata": {},
   "outputs": [
    {
     "name": "stdout",
     "output_type": "stream",
     "text": [
      "<class 'pandas.core.frame.DataFrame'>\n",
      "RangeIndex: 150930 entries, 0 to 150929\n",
      "Data columns (total 11 columns):\n",
      " #   Column       Non-Null Count   Dtype  \n",
      "---  ------       --------------   -----  \n",
      " 0   Unnamed: 0   150930 non-null  int64  \n",
      " 1   country      150925 non-null  object \n",
      " 2   description  150930 non-null  object \n",
      " 3   designation  105195 non-null  object \n",
      " 4   points       150930 non-null  int64  \n",
      " 5   price        137235 non-null  float64\n",
      " 6   province     150925 non-null  object \n",
      " 7   region_1     125870 non-null  object \n",
      " 8   region_2     60953 non-null   object \n",
      " 9   variety      150930 non-null  object \n",
      " 10  winery       150930 non-null  object \n",
      "dtypes: float64(1), int64(2), object(8)\n",
      "memory usage: 12.7+ MB\n"
     ]
    }
   ],
   "source": [
    "data2.info()"
   ]
  },
  {
   "cell_type": "code",
   "execution_count": 233,
   "metadata": {},
   "outputs": [],
   "source": [
    "data1.drop(['Unnamed: 0','region_1','region_2','taster_name','taster_twitter_handle','title'], axis=1, inplace=True)"
   ]
  },
  {
   "cell_type": "code",
   "execution_count": 234,
   "metadata": {},
   "outputs": [],
   "source": [
    "del data2['Unnamed: 0']"
   ]
  },
  {
   "cell_type": "code",
   "execution_count": 235,
   "metadata": {},
   "outputs": [],
   "source": [
    "data2.drop(['region_1','region_2'],axis=1,inplace=True)"
   ]
  },
  {
   "cell_type": "code",
   "execution_count": 236,
   "metadata": {},
   "outputs": [],
   "source": [
    "frames=[data1,data2]\n",
    "result=pd.concat(frames)"
   ]
  },
  {
   "cell_type": "code",
   "execution_count": 237,
   "metadata": {},
   "outputs": [],
   "source": [
    "data=result.reset_index()\n",
    "del data['index']"
   ]
  },
  {
   "cell_type": "code",
   "execution_count": 238,
   "metadata": {
    "scrolled": true
   },
   "outputs": [
    {
     "data": {
      "text/html": [
       "<div>\n",
       "<style scoped>\n",
       "    .dataframe tbody tr th:only-of-type {\n",
       "        vertical-align: middle;\n",
       "    }\n",
       "\n",
       "    .dataframe tbody tr th {\n",
       "        vertical-align: top;\n",
       "    }\n",
       "\n",
       "    .dataframe thead th {\n",
       "        text-align: right;\n",
       "    }\n",
       "</style>\n",
       "<table border=\"1\" class=\"dataframe\">\n",
       "  <thead>\n",
       "    <tr style=\"text-align: right;\">\n",
       "      <th></th>\n",
       "      <th>country</th>\n",
       "      <th>description</th>\n",
       "      <th>designation</th>\n",
       "      <th>points</th>\n",
       "      <th>price</th>\n",
       "      <th>province</th>\n",
       "      <th>variety</th>\n",
       "      <th>winery</th>\n",
       "    </tr>\n",
       "  </thead>\n",
       "  <tbody>\n",
       "    <tr>\n",
       "      <th>0</th>\n",
       "      <td>Italy</td>\n",
       "      <td>Aromas include tropical fruit, broom, brimston...</td>\n",
       "      <td>Vulkà Bianco</td>\n",
       "      <td>87</td>\n",
       "      <td>NaN</td>\n",
       "      <td>Sicily &amp; Sardinia</td>\n",
       "      <td>White Blend</td>\n",
       "      <td>Nicosia</td>\n",
       "    </tr>\n",
       "    <tr>\n",
       "      <th>1</th>\n",
       "      <td>Portugal</td>\n",
       "      <td>This is ripe and fruity, a wine that is smooth...</td>\n",
       "      <td>Avidagos</td>\n",
       "      <td>87</td>\n",
       "      <td>15.0</td>\n",
       "      <td>Douro</td>\n",
       "      <td>Portuguese Red</td>\n",
       "      <td>Quinta dos Avidagos</td>\n",
       "    </tr>\n",
       "    <tr>\n",
       "      <th>2</th>\n",
       "      <td>US</td>\n",
       "      <td>Tart and snappy, the flavors of lime flesh and...</td>\n",
       "      <td>NaN</td>\n",
       "      <td>87</td>\n",
       "      <td>14.0</td>\n",
       "      <td>Oregon</td>\n",
       "      <td>Pinot Gris</td>\n",
       "      <td>Rainstorm</td>\n",
       "    </tr>\n",
       "    <tr>\n",
       "      <th>3</th>\n",
       "      <td>US</td>\n",
       "      <td>Pineapple rind, lemon pith and orange blossom ...</td>\n",
       "      <td>Reserve Late Harvest</td>\n",
       "      <td>87</td>\n",
       "      <td>13.0</td>\n",
       "      <td>Michigan</td>\n",
       "      <td>Riesling</td>\n",
       "      <td>St. Julian</td>\n",
       "    </tr>\n",
       "    <tr>\n",
       "      <th>4</th>\n",
       "      <td>US</td>\n",
       "      <td>Much like the regular bottling from 2012, this...</td>\n",
       "      <td>Vintner's Reserve Wild Child Block</td>\n",
       "      <td>87</td>\n",
       "      <td>65.0</td>\n",
       "      <td>Oregon</td>\n",
       "      <td>Pinot Noir</td>\n",
       "      <td>Sweet Cheeks</td>\n",
       "    </tr>\n",
       "  </tbody>\n",
       "</table>\n",
       "</div>"
      ],
      "text/plain": [
       "    country                                        description  \\\n",
       "0     Italy  Aromas include tropical fruit, broom, brimston...   \n",
       "1  Portugal  This is ripe and fruity, a wine that is smooth...   \n",
       "2        US  Tart and snappy, the flavors of lime flesh and...   \n",
       "3        US  Pineapple rind, lemon pith and orange blossom ...   \n",
       "4        US  Much like the regular bottling from 2012, this...   \n",
       "\n",
       "                          designation  points  price           province  \\\n",
       "0                        Vulkà Bianco      87    NaN  Sicily & Sardinia   \n",
       "1                            Avidagos      87   15.0              Douro   \n",
       "2                                 NaN      87   14.0             Oregon   \n",
       "3                Reserve Late Harvest      87   13.0           Michigan   \n",
       "4  Vintner's Reserve Wild Child Block      87   65.0             Oregon   \n",
       "\n",
       "          variety               winery  \n",
       "0     White Blend              Nicosia  \n",
       "1  Portuguese Red  Quinta dos Avidagos  \n",
       "2      Pinot Gris            Rainstorm  \n",
       "3        Riesling           St. Julian  \n",
       "4      Pinot Noir         Sweet Cheeks  "
      ]
     },
     "execution_count": 238,
     "metadata": {},
     "output_type": "execute_result"
    }
   ],
   "source": [
    "data.head()"
   ]
  },
  {
   "cell_type": "code",
   "execution_count": 239,
   "metadata": {},
   "outputs": [
    {
     "name": "stdout",
     "output_type": "stream",
     "text": [
      "<class 'pandas.core.frame.DataFrame'>\n",
      "RangeIndex: 280901 entries, 0 to 280900\n",
      "Data columns (total 8 columns):\n",
      " #   Column       Non-Null Count   Dtype  \n",
      "---  ------       --------------   -----  \n",
      " 0   country      280833 non-null  object \n",
      " 1   description  280901 non-null  object \n",
      " 2   designation  197701 non-null  object \n",
      " 3   points       280901 non-null  int64  \n",
      " 4   price        258210 non-null  float64\n",
      " 5   province     280833 non-null  object \n",
      " 6   variety      280900 non-null  object \n",
      " 7   winery       280901 non-null  object \n",
      "dtypes: float64(1), int64(1), object(6)\n",
      "memory usage: 17.1+ MB\n"
     ]
    }
   ],
   "source": [
    "data.info()"
   ]
  },
  {
   "cell_type": "code",
   "execution_count": 240,
   "metadata": {},
   "outputs": [],
   "source": [
    "datra = data.isnull()\n",
    "col = datra.columns.values\n",
    "alldata = 280901\n",
    "dic = {}\n",
    "for i in col:\n",
    "    if i != 'points':\n",
    "        dd = datra.groupby(i)['points'].count()\n",
    "        if len(dd) > 1:\n",
    "            temp = dd.values[0]\n",
    "            dic[i] = alldata - temp"
   ]
  },
  {
   "cell_type": "code",
   "execution_count": 164,
   "metadata": {},
   "outputs": [
    {
     "data": {
      "text/plain": [
       "{'country': 68,\n",
       " 'designation': 83200,\n",
       " 'price': 22691,\n",
       " 'province': 68,\n",
       " 'variety': 1}"
      ]
     },
     "execution_count": 164,
     "metadata": {},
     "output_type": "execute_result"
    }
   ],
   "source": [
    "dic"
   ]
  },
  {
   "cell_type": "markdown",
   "metadata": {},
   "source": [
    "중복수치가 가리키는 것은 행수치를 단위검열중복수치로 하는 것이고, 먼저 중복수치를 삭제 한다. "
   ]
  },
  {
   "cell_type": "code",
   "execution_count": 10,
   "metadata": {
    "scrolled": true
   },
   "outputs": [
    {
     "name": "stdout",
     "output_type": "stream",
     "text": [
      "총 데이터행렬수: \n",
      " (280901, 8)\n",
      "각 변량의 수치형태: \n",
      " country         object\n",
      "description     object\n",
      "designation     object\n",
      "points           int64\n",
      "price          float64\n",
      "province        object\n",
      "variety         object\n",
      "winery          object\n",
      "dtype: object\n"
     ]
    }
   ],
   "source": [
    "print('총 데이터행렬수: \\n',data. shape)\n",
    "print('각 변량의 수치형태: \\n',data. dtypes)"
   ]
  },
  {
   "cell_type": "markdown",
   "metadata": {},
   "source": [
    "data1과 data2 합병 후, 중복수치량이 111226건 발견.\n",
    "중복수치 data1:9984건, data2: 53081건 \n",
    "이 두가지 다량의 중복수치가 총합된 것으로 짐작하고, 완전 상통하는 것은 아니다. 그래서 이 중복수치를 오나전히 삭제해버렸다.\n",
    "삭제 후 남은 수치가 169675건의 수치결과가 나왔다."
   ]
  },
  {
   "cell_type": "code",
   "execution_count": 11,
   "metadata": {},
   "outputs": [
    {
     "name": "stdout",
     "output_type": "stream",
     "text": [
      "111226\n",
      "9984\n",
      "53081\n"
     ]
    },
    {
     "data": {
      "text/plain": [
       "(169675, 8)"
      ]
     },
     "execution_count": 11,
     "metadata": {},
     "output_type": "execute_result"
    }
   ],
   "source": [
    "print(data. duplicated().sum())\n",
    "print(data1. duplicated().sum())\n",
    "print(data2. duplicated() .sum())\n",
    "data. drop_duplicates(keep='first',inplace=True)\n",
    "data.reset_index()\n",
    "data. shape"
   ]
  },
  {
   "cell_type": "markdown",
   "metadata": {},
   "source": [
    "식별수치중의 결실수치의 상황을 보면,\n",
    "이번 수치분석의 총연구 변량은 country, points, price.\n",
    "3 변량의 결실수치현황을 알아 볼 필요가 있다."
   ]
  },
  {
   "cell_type": "code",
   "execution_count": 12,
   "metadata": {},
   "outputs": [
    {
     "data": {
      "text/plain": [
       "country         True\n",
       "description    False\n",
       "designation     True\n",
       "points         False\n",
       "price           True\n",
       "province        True\n",
       "variety         True\n",
       "winery         False\n",
       "dtype: bool"
      ]
     },
     "execution_count": 12,
     "metadata": {},
     "output_type": "execute_result"
    }
   ],
   "source": [
    "data.isnull().any()"
   ]
  },
  {
   "cell_type": "code",
   "execution_count": 13,
   "metadata": {},
   "outputs": [
    {
     "data": {
      "text/html": [
       "<div>\n",
       "<style scoped>\n",
       "    .dataframe tbody tr th:only-of-type {\n",
       "        vertical-align: middle;\n",
       "    }\n",
       "\n",
       "    .dataframe tbody tr th {\n",
       "        vertical-align: top;\n",
       "    }\n",
       "\n",
       "    .dataframe thead th {\n",
       "        text-align: right;\n",
       "    }\n",
       "</style>\n",
       "<table border=\"1\" class=\"dataframe\">\n",
       "  <thead>\n",
       "    <tr style=\"text-align: right;\">\n",
       "      <th></th>\n",
       "      <th>country</th>\n",
       "      <th>description</th>\n",
       "      <th>designation</th>\n",
       "      <th>points</th>\n",
       "      <th>price</th>\n",
       "      <th>province</th>\n",
       "      <th>variety</th>\n",
       "      <th>winery</th>\n",
       "    </tr>\n",
       "  </thead>\n",
       "  <tbody>\n",
       "    <tr>\n",
       "      <th>913</th>\n",
       "      <td>NaN</td>\n",
       "      <td>Amber in color, this wine has aromas of peach ...</td>\n",
       "      <td>Asureti Valley</td>\n",
       "      <td>87</td>\n",
       "      <td>30.0</td>\n",
       "      <td>NaN</td>\n",
       "      <td>Chinuri</td>\n",
       "      <td>Gotsa Family Wines</td>\n",
       "    </tr>\n",
       "    <tr>\n",
       "      <th>3131</th>\n",
       "      <td>NaN</td>\n",
       "      <td>Soft, fruity and juicy, this is a pleasant, si...</td>\n",
       "      <td>Partager</td>\n",
       "      <td>83</td>\n",
       "      <td>NaN</td>\n",
       "      <td>NaN</td>\n",
       "      <td>Red Blend</td>\n",
       "      <td>Barton &amp; Guestier</td>\n",
       "    </tr>\n",
       "    <tr>\n",
       "      <th>4243</th>\n",
       "      <td>NaN</td>\n",
       "      <td>Violet-red in color, this semisweet wine has a...</td>\n",
       "      <td>Red Naturally Semi-Sweet</td>\n",
       "      <td>88</td>\n",
       "      <td>18.0</td>\n",
       "      <td>NaN</td>\n",
       "      <td>Ojaleshi</td>\n",
       "      <td>Kakhetia Traditional Winemaking</td>\n",
       "    </tr>\n",
       "    <tr>\n",
       "      <th>9509</th>\n",
       "      <td>NaN</td>\n",
       "      <td>This mouthwatering blend starts with a nose of...</td>\n",
       "      <td>Theopetra Malagouzia-Assyrtiko</td>\n",
       "      <td>92</td>\n",
       "      <td>28.0</td>\n",
       "      <td>NaN</td>\n",
       "      <td>White Blend</td>\n",
       "      <td>Tsililis</td>\n",
       "    </tr>\n",
       "    <tr>\n",
       "      <th>9750</th>\n",
       "      <td>NaN</td>\n",
       "      <td>This orange-style wine has a cloudy yellow-gol...</td>\n",
       "      <td>Orange Nikolaevo Vineyard</td>\n",
       "      <td>89</td>\n",
       "      <td>28.0</td>\n",
       "      <td>NaN</td>\n",
       "      <td>Chardonnay</td>\n",
       "      <td>Ross-idi</td>\n",
       "    </tr>\n",
       "    <tr>\n",
       "      <th>11150</th>\n",
       "      <td>NaN</td>\n",
       "      <td>A blend of 85% Melnik, 10% Grenache Noir and 5...</td>\n",
       "      <td>NaN</td>\n",
       "      <td>89</td>\n",
       "      <td>20.0</td>\n",
       "      <td>NaN</td>\n",
       "      <td>Melnik</td>\n",
       "      <td>Orbelus</td>\n",
       "    </tr>\n",
       "    <tr>\n",
       "      <th>11348</th>\n",
       "      <td>NaN</td>\n",
       "      <td>Light and fruity, this is a wine that has some...</td>\n",
       "      <td>Partager</td>\n",
       "      <td>82</td>\n",
       "      <td>NaN</td>\n",
       "      <td>NaN</td>\n",
       "      <td>White Blend</td>\n",
       "      <td>Barton &amp; Guestier</td>\n",
       "    </tr>\n",
       "    <tr>\n",
       "      <th>14030</th>\n",
       "      <td>NaN</td>\n",
       "      <td>This Furmint, grown in marl soils, has aromas ...</td>\n",
       "      <td>Márga</td>\n",
       "      <td>88</td>\n",
       "      <td>25.0</td>\n",
       "      <td>NaN</td>\n",
       "      <td>White Blend</td>\n",
       "      <td>St. Donat</td>\n",
       "    </tr>\n",
       "    <tr>\n",
       "      <th>16000</th>\n",
       "      <td>NaN</td>\n",
       "      <td>Jumpy, jammy aromas of foxy black fruits are s...</td>\n",
       "      <td>Valle de los Manantiales Vineyard</td>\n",
       "      <td>86</td>\n",
       "      <td>40.0</td>\n",
       "      <td>NaN</td>\n",
       "      <td>Tannat</td>\n",
       "      <td>Familia Deicas</td>\n",
       "    </tr>\n",
       "    <tr>\n",
       "      <th>16749</th>\n",
       "      <td>NaN</td>\n",
       "      <td>Winemaker: Bartho Eksteen. This wooded Sauvy s...</td>\n",
       "      <td>Cape Winemakers Guild Vloekskoot Wooded</td>\n",
       "      <td>91</td>\n",
       "      <td>NaN</td>\n",
       "      <td>NaN</td>\n",
       "      <td>Sauvignon Blanc</td>\n",
       "      <td>Bartho Eksteen</td>\n",
       "    </tr>\n",
       "    <tr>\n",
       "      <th>18075</th>\n",
       "      <td>NaN</td>\n",
       "      <td>Delicate white flowers and a spin of lemon pee...</td>\n",
       "      <td>Askitikos</td>\n",
       "      <td>90</td>\n",
       "      <td>17.0</td>\n",
       "      <td>NaN</td>\n",
       "      <td>Assyrtiko</td>\n",
       "      <td>Tsililis</td>\n",
       "    </tr>\n",
       "    <tr>\n",
       "      <th>26485</th>\n",
       "      <td>NaN</td>\n",
       "      <td>This wine has aromas of black berry, dried red...</td>\n",
       "      <td>NaN</td>\n",
       "      <td>87</td>\n",
       "      <td>13.0</td>\n",
       "      <td>NaN</td>\n",
       "      <td>Shiraz</td>\n",
       "      <td>Stone Castle</td>\n",
       "    </tr>\n",
       "    <tr>\n",
       "      <th>26486</th>\n",
       "      <td>NaN</td>\n",
       "      <td>Aromas of green apple and white flowers prepar...</td>\n",
       "      <td>NaN</td>\n",
       "      <td>87</td>\n",
       "      <td>14.0</td>\n",
       "      <td>NaN</td>\n",
       "      <td>Tsolikouri</td>\n",
       "      <td>Teliani Valley</td>\n",
       "    </tr>\n",
       "    <tr>\n",
       "      <th>26489</th>\n",
       "      <td>NaN</td>\n",
       "      <td>Balanced aromas of green herbs and citrus zest...</td>\n",
       "      <td>Aliwen Reserva</td>\n",
       "      <td>87</td>\n",
       "      <td>12.0</td>\n",
       "      <td>NaN</td>\n",
       "      <td>Sauvignon Blanc</td>\n",
       "      <td>Undurraga</td>\n",
       "    </tr>\n",
       "    <tr>\n",
       "      <th>27822</th>\n",
       "      <td>NaN</td>\n",
       "      <td>This is a reasonably rich, concentrated exampl...</td>\n",
       "      <td>NaN</td>\n",
       "      <td>86</td>\n",
       "      <td>19.0</td>\n",
       "      <td>NaN</td>\n",
       "      <td>Pinot Gris</td>\n",
       "      <td>Mt. Beautiful</td>\n",
       "    </tr>\n",
       "    <tr>\n",
       "      <th>36112</th>\n",
       "      <td>NaN</td>\n",
       "      <td>An interesting blend of indigenous Bulgarian a...</td>\n",
       "      <td>Hrumki Melnik 55 Mourvèdre Marselan</td>\n",
       "      <td>89</td>\n",
       "      <td>25.0</td>\n",
       "      <td>NaN</td>\n",
       "      <td>Red Blend</td>\n",
       "      <td>Orbelus</td>\n",
       "    </tr>\n",
       "    <tr>\n",
       "      <th>38240</th>\n",
       "      <td>NaN</td>\n",
       "      <td>Subdued citrus and pear notes on the nose find...</td>\n",
       "      <td>Steirische Klassik</td>\n",
       "      <td>89</td>\n",
       "      <td>24.0</td>\n",
       "      <td>NaN</td>\n",
       "      <td>Grauburgunder</td>\n",
       "      <td>Neumeister</td>\n",
       "    </tr>\n",
       "    <tr>\n",
       "      <th>38898</th>\n",
       "      <td>NaN</td>\n",
       "      <td>Scents of clover, stem, green herb and red cur...</td>\n",
       "      <td>Wismer-Parke Vineyard</td>\n",
       "      <td>89</td>\n",
       "      <td>34.0</td>\n",
       "      <td>NaN</td>\n",
       "      <td>Pinot Noir</td>\n",
       "      <td>Bachelder</td>\n",
       "    </tr>\n",
       "    <tr>\n",
       "      <th>44674</th>\n",
       "      <td>NaN</td>\n",
       "      <td>Crisp apple freshness almost tips into full ci...</td>\n",
       "      <td>Steirische Klassik</td>\n",
       "      <td>91</td>\n",
       "      <td>25.0</td>\n",
       "      <td>NaN</td>\n",
       "      <td>Grauburgunder</td>\n",
       "      <td>Neumeister</td>\n",
       "    </tr>\n",
       "    <tr>\n",
       "      <th>44850</th>\n",
       "      <td>NaN</td>\n",
       "      <td>This blend of Gamay and Prokupe has aromas of ...</td>\n",
       "      <td>Amphora</td>\n",
       "      <td>84</td>\n",
       "      <td>6.0</td>\n",
       "      <td>NaN</td>\n",
       "      <td>Red Blend</td>\n",
       "      <td>Stone Castle</td>\n",
       "    </tr>\n",
       "    <tr>\n",
       "      <th>44851</th>\n",
       "      <td>NaN</td>\n",
       "      <td>This wine has aromas of honeysuckle and lemon ...</td>\n",
       "      <td>Royal</td>\n",
       "      <td>84</td>\n",
       "      <td>6.0</td>\n",
       "      <td>NaN</td>\n",
       "      <td>Riesling</td>\n",
       "      <td>Stone Castle</td>\n",
       "    </tr>\n",
       "    <tr>\n",
       "      <th>45247</th>\n",
       "      <td>NaN</td>\n",
       "      <td>Just a whiff of citrus shows on the restrained...</td>\n",
       "      <td>Steirische Klassik</td>\n",
       "      <td>89</td>\n",
       "      <td>25.0</td>\n",
       "      <td>NaN</td>\n",
       "      <td>Sauvignon Blanc</td>\n",
       "      <td>Neumeister</td>\n",
       "    </tr>\n",
       "    <tr>\n",
       "      <th>45402</th>\n",
       "      <td>NaN</td>\n",
       "      <td>Basic cherry aromas turn more earthy and soupy...</td>\n",
       "      <td>Reserva Estate Bottled</td>\n",
       "      <td>85</td>\n",
       "      <td>12.0</td>\n",
       "      <td>NaN</td>\n",
       "      <td>Pinot Noir</td>\n",
       "      <td>Chilcas</td>\n",
       "    </tr>\n",
       "    <tr>\n",
       "      <th>46352</th>\n",
       "      <td>NaN</td>\n",
       "      <td>A dark color and rich, jammy, baked aromas of ...</td>\n",
       "      <td>Catalina</td>\n",
       "      <td>91</td>\n",
       "      <td>50.0</td>\n",
       "      <td>NaN</td>\n",
       "      <td>Red Blend</td>\n",
       "      <td>Santa Ema</td>\n",
       "    </tr>\n",
       "    <tr>\n",
       "      <th>49425</th>\n",
       "      <td>NaN</td>\n",
       "      <td>This blend is comprised of 55% Merlot, 21% Cab...</td>\n",
       "      <td>Getika Made With Organic Grapes</td>\n",
       "      <td>88</td>\n",
       "      <td>28.0</td>\n",
       "      <td>NaN</td>\n",
       "      <td>Red Blend</td>\n",
       "      <td>Orbelus</td>\n",
       "    </tr>\n",
       "    <tr>\n",
       "      <th>49426</th>\n",
       "      <td>NaN</td>\n",
       "      <td>Enticing aromas of blueberry syrup open this b...</td>\n",
       "      <td>Getika Made With Organic Grapes</td>\n",
       "      <td>88</td>\n",
       "      <td>28.0</td>\n",
       "      <td>NaN</td>\n",
       "      <td>Red Blend</td>\n",
       "      <td>Orbelus</td>\n",
       "    </tr>\n",
       "    <tr>\n",
       "      <th>49427</th>\n",
       "      <td>NaN</td>\n",
       "      <td>This dark-garnet wine has aromas of eucalyptus...</td>\n",
       "      <td>Hrumki Syrah Melnik 55 Mourvèdre Marselan</td>\n",
       "      <td>88</td>\n",
       "      <td>19.0</td>\n",
       "      <td>NaN</td>\n",
       "      <td>Red Blend</td>\n",
       "      <td>Orbelus</td>\n",
       "    </tr>\n",
       "    <tr>\n",
       "      <th>49510</th>\n",
       "      <td>NaN</td>\n",
       "      <td>Aromas of cherry, blueberry and rose petal pre...</td>\n",
       "      <td>NaN</td>\n",
       "      <td>91</td>\n",
       "      <td>34.0</td>\n",
       "      <td>NaN</td>\n",
       "      <td>Cabernet Sauvignon</td>\n",
       "      <td>Psagot</td>\n",
       "    </tr>\n",
       "    <tr>\n",
       "      <th>54222</th>\n",
       "      <td>NaN</td>\n",
       "      <td>Almost caramel in color, this wine offers arom...</td>\n",
       "      <td>Babaneuri Valley</td>\n",
       "      <td>87</td>\n",
       "      <td>30.0</td>\n",
       "      <td>NaN</td>\n",
       "      <td>Mtsvane</td>\n",
       "      <td>Gotsa Family Wines</td>\n",
       "    </tr>\n",
       "    <tr>\n",
       "      <th>57612</th>\n",
       "      <td>NaN</td>\n",
       "      <td>Winemaker: Gordon Newton Johnson. This is such...</td>\n",
       "      <td>Cape Winemakers Guild Windansea</td>\n",
       "      <td>92</td>\n",
       "      <td>NaN</td>\n",
       "      <td>NaN</td>\n",
       "      <td>Pinot Noir</td>\n",
       "      <td>Newton Johnson</td>\n",
       "    </tr>\n",
       "    <tr>\n",
       "      <th>59670</th>\n",
       "      <td>NaN</td>\n",
       "      <td>The heady florality of damask rose is joined b...</td>\n",
       "      <td>Steintal</td>\n",
       "      <td>92</td>\n",
       "      <td>38.0</td>\n",
       "      <td>NaN</td>\n",
       "      <td>Roter Traminer</td>\n",
       "      <td>Neumeister</td>\n",
       "    </tr>\n",
       "    <tr>\n",
       "      <th>60678</th>\n",
       "      <td>NaN</td>\n",
       "      <td>This wine was made for grilled meats, with its...</td>\n",
       "      <td>Dry</td>\n",
       "      <td>86</td>\n",
       "      <td>17.0</td>\n",
       "      <td>NaN</td>\n",
       "      <td>Rosé</td>\n",
       "      <td>Ktima Voyatzi</td>\n",
       "    </tr>\n",
       "    <tr>\n",
       "      <th>66524</th>\n",
       "      <td>NaN</td>\n",
       "      <td>Amber to the eye, this wine features an entici...</td>\n",
       "      <td>Dry Unfiltered Rkatsiteli Mtsvane</td>\n",
       "      <td>88</td>\n",
       "      <td>25.0</td>\n",
       "      <td>NaN</td>\n",
       "      <td>White Blend</td>\n",
       "      <td>Gotsa Family Wines</td>\n",
       "    </tr>\n",
       "    <tr>\n",
       "      <th>68322</th>\n",
       "      <td>NaN</td>\n",
       "      <td>This Bulgarian Chardonnay is fermented in egg-...</td>\n",
       "      <td>Nikolaevo</td>\n",
       "      <td>89</td>\n",
       "      <td>20.0</td>\n",
       "      <td>NaN</td>\n",
       "      <td>Chardonnay</td>\n",
       "      <td>Ross-idi</td>\n",
       "    </tr>\n",
       "    <tr>\n",
       "      <th>72581</th>\n",
       "      <td>NaN</td>\n",
       "      <td>This dry Furmint from Hungary's Balaton region...</td>\n",
       "      <td>Estate</td>\n",
       "      <td>89</td>\n",
       "      <td>21.0</td>\n",
       "      <td>NaN</td>\n",
       "      <td>Furmint</td>\n",
       "      <td>St. Donat</td>\n",
       "    </tr>\n",
       "    <tr>\n",
       "      <th>79270</th>\n",
       "      <td>NaN</td>\n",
       "      <td>This 100% Vranac is garnet in color, with arom...</td>\n",
       "      <td>Premium</td>\n",
       "      <td>86</td>\n",
       "      <td>11.0</td>\n",
       "      <td>NaN</td>\n",
       "      <td>Vranac</td>\n",
       "      <td>Stone Castle</td>\n",
       "    </tr>\n",
       "    <tr>\n",
       "      <th>81955</th>\n",
       "      <td>NaN</td>\n",
       "      <td>This white blend is comprised of 50% Chardonna...</td>\n",
       "      <td>Nikolaevo Unison Chardonnay-Gewürtztraminer</td>\n",
       "      <td>89</td>\n",
       "      <td>16.0</td>\n",
       "      <td>NaN</td>\n",
       "      <td>White Blend</td>\n",
       "      <td>Ross-idi</td>\n",
       "    </tr>\n",
       "    <tr>\n",
       "      <th>81957</th>\n",
       "      <td>NaN</td>\n",
       "      <td>This wine is made from grapes grown in the Lak...</td>\n",
       "      <td>Márga</td>\n",
       "      <td>89</td>\n",
       "      <td>18.0</td>\n",
       "      <td>NaN</td>\n",
       "      <td>Furmint</td>\n",
       "      <td>St. Donat</td>\n",
       "    </tr>\n",
       "    <tr>\n",
       "      <th>85602</th>\n",
       "      <td>NaN</td>\n",
       "      <td>There's a pleasant fruity richness to this win...</td>\n",
       "      <td>NaN</td>\n",
       "      <td>88</td>\n",
       "      <td>36.0</td>\n",
       "      <td>NaN</td>\n",
       "      <td>Chardonnay</td>\n",
       "      <td>Lismore</td>\n",
       "    </tr>\n",
       "    <tr>\n",
       "      <th>85603</th>\n",
       "      <td>NaN</td>\n",
       "      <td>Made from 100% Melnick this garnet-colored win...</td>\n",
       "      <td>Nobile</td>\n",
       "      <td>88</td>\n",
       "      <td>23.0</td>\n",
       "      <td>NaN</td>\n",
       "      <td>Melnik</td>\n",
       "      <td>Logodaj</td>\n",
       "    </tr>\n",
       "    <tr>\n",
       "      <th>85821</th>\n",
       "      <td>NaN</td>\n",
       "      <td>A neutral nose leads onto an apple-fresh palat...</td>\n",
       "      <td>Steirische Klassik</td>\n",
       "      <td>90</td>\n",
       "      <td>22.0</td>\n",
       "      <td>NaN</td>\n",
       "      <td>Morillon</td>\n",
       "      <td>Neumeister</td>\n",
       "    </tr>\n",
       "    <tr>\n",
       "      <th>90146</th>\n",
       "      <td>NaN</td>\n",
       "      <td>Aromas of cut grass, lemongrass and honeysuckl...</td>\n",
       "      <td>Nikolaevo Vineyard</td>\n",
       "      <td>89</td>\n",
       "      <td>16.0</td>\n",
       "      <td>NaN</td>\n",
       "      <td>Gewürztraminer</td>\n",
       "      <td>Ross-idi</td>\n",
       "    </tr>\n",
       "    <tr>\n",
       "      <th>90151</th>\n",
       "      <td>NaN</td>\n",
       "      <td>This medium-straw-colored wine has aromas of c...</td>\n",
       "      <td>NaN</td>\n",
       "      <td>89</td>\n",
       "      <td>25.0</td>\n",
       "      <td>NaN</td>\n",
       "      <td>Furmint</td>\n",
       "      <td>Somlói Vándor</td>\n",
       "    </tr>\n",
       "    <tr>\n",
       "      <th>95176</th>\n",
       "      <td>NaN</td>\n",
       "      <td>Aromatic hints of tomato leaf and pea shoots m...</td>\n",
       "      <td>Klausen</td>\n",
       "      <td>91</td>\n",
       "      <td>38.0</td>\n",
       "      <td>NaN</td>\n",
       "      <td>Sauvignon Blanc</td>\n",
       "      <td>Neumeister</td>\n",
       "    </tr>\n",
       "    <tr>\n",
       "      <th>97850</th>\n",
       "      <td>NaN</td>\n",
       "      <td>Streaks of blossom, citrus and pear can be dis...</td>\n",
       "      <td>Gemischter Satz</td>\n",
       "      <td>89</td>\n",
       "      <td>17.0</td>\n",
       "      <td>NaN</td>\n",
       "      <td>Austrian white blend</td>\n",
       "      <td>Neumeister</td>\n",
       "    </tr>\n",
       "    <tr>\n",
       "      <th>98094</th>\n",
       "      <td>NaN</td>\n",
       "      <td>This organically produced wine is comprised of...</td>\n",
       "      <td>Made With Organic Grapes</td>\n",
       "      <td>89</td>\n",
       "      <td>24.0</td>\n",
       "      <td>NaN</td>\n",
       "      <td>Melnik</td>\n",
       "      <td>Orbelus</td>\n",
       "    </tr>\n",
       "    <tr>\n",
       "      <th>100570</th>\n",
       "      <td>NaN</td>\n",
       "      <td>Plum, black cherry and anise lead the nose of ...</td>\n",
       "      <td>Theopetra Estate</td>\n",
       "      <td>87</td>\n",
       "      <td>37.0</td>\n",
       "      <td>NaN</td>\n",
       "      <td>Red Blend</td>\n",
       "      <td>Tsililis</td>\n",
       "    </tr>\n",
       "    <tr>\n",
       "      <th>100722</th>\n",
       "      <td>NaN</td>\n",
       "      <td>This Pinot Gris from Switzerland has aromas of...</td>\n",
       "      <td>Domaine de la Treille</td>\n",
       "      <td>89</td>\n",
       "      <td>25.0</td>\n",
       "      <td>NaN</td>\n",
       "      <td>Pinot Gris</td>\n",
       "      <td>Les Frères Dutruy</td>\n",
       "    </tr>\n",
       "    <tr>\n",
       "      <th>105167</th>\n",
       "      <td>NaN</td>\n",
       "      <td>A lively whiff of white blossom, Muscat grapes...</td>\n",
       "      <td>Steirische Klassik</td>\n",
       "      <td>92</td>\n",
       "      <td>21.0</td>\n",
       "      <td>NaN</td>\n",
       "      <td>Gelber Muskateller</td>\n",
       "      <td>Neumeister</td>\n",
       "    </tr>\n",
       "    <tr>\n",
       "      <th>105715</th>\n",
       "      <td>NaN</td>\n",
       "      <td>Aromas of blackberry, strawberry and chocolate...</td>\n",
       "      <td>Peak</td>\n",
       "      <td>92</td>\n",
       "      <td>50.0</td>\n",
       "      <td>NaN</td>\n",
       "      <td>Rhône-style Red Blend</td>\n",
       "      <td>Psagot</td>\n",
       "    </tr>\n",
       "    <tr>\n",
       "      <th>113520</th>\n",
       "      <td>NaN</td>\n",
       "      <td>Aromas of crushed stone and graphite lead toas...</td>\n",
       "      <td>Reserve</td>\n",
       "      <td>90</td>\n",
       "      <td>22.0</td>\n",
       "      <td>NaN</td>\n",
       "      <td>Tannat</td>\n",
       "      <td>El Capricho</td>\n",
       "    </tr>\n",
       "    <tr>\n",
       "      <th>119787</th>\n",
       "      <td>NaN</td>\n",
       "      <td>This deep red-violet wine has a nose of blackb...</td>\n",
       "      <td>NaN</td>\n",
       "      <td>90</td>\n",
       "      <td>30.0</td>\n",
       "      <td>NaN</td>\n",
       "      <td>Otskhanuri Sapere</td>\n",
       "      <td>Amiran Vepkhvadze</td>\n",
       "    </tr>\n",
       "    <tr>\n",
       "      <th>120248</th>\n",
       "      <td>NaN</td>\n",
       "      <td>Dark ruby in the glass, this wine offers a bou...</td>\n",
       "      <td>M Series</td>\n",
       "      <td>92</td>\n",
       "      <td>36.0</td>\n",
       "      <td>NaN</td>\n",
       "      <td>Cabernet Franc</td>\n",
       "      <td>Psagot</td>\n",
       "    </tr>\n",
       "    <tr>\n",
       "      <th>120799</th>\n",
       "      <td>NaN</td>\n",
       "      <td>Cigar box, cedar and red fruit aromas start th...</td>\n",
       "      <td>NaN</td>\n",
       "      <td>90</td>\n",
       "      <td>27.0</td>\n",
       "      <td>NaN</td>\n",
       "      <td>Tsapournakos</td>\n",
       "      <td>Ktima Voyatzi</td>\n",
       "    </tr>\n",
       "    <tr>\n",
       "      <th>124176</th>\n",
       "      <td>NaN</td>\n",
       "      <td>This Swiss red blend is composed of four varie...</td>\n",
       "      <td>Les Romaines</td>\n",
       "      <td>90</td>\n",
       "      <td>30.0</td>\n",
       "      <td>NaN</td>\n",
       "      <td>Red Blend</td>\n",
       "      <td>Les Frères Dutruy</td>\n",
       "    </tr>\n",
       "    <tr>\n",
       "      <th>129407</th>\n",
       "      <td>NaN</td>\n",
       "      <td>Dry spicy aromas of dusty plum and tomato add ...</td>\n",
       "      <td>Reserve</td>\n",
       "      <td>89</td>\n",
       "      <td>22.0</td>\n",
       "      <td>NaN</td>\n",
       "      <td>Cabernet Sauvignon</td>\n",
       "      <td>El Capricho</td>\n",
       "    </tr>\n",
       "    <tr>\n",
       "      <th>129408</th>\n",
       "      <td>NaN</td>\n",
       "      <td>El Capricho is one of Uruguay's more consisten...</td>\n",
       "      <td>Reserve</td>\n",
       "      <td>89</td>\n",
       "      <td>22.0</td>\n",
       "      <td>NaN</td>\n",
       "      <td>Tempranillo</td>\n",
       "      <td>El Capricho</td>\n",
       "    </tr>\n",
       "    <tr>\n",
       "      <th>129590</th>\n",
       "      <td>NaN</td>\n",
       "      <td>A blend of 60% Syrah, 30% Cabernet Sauvignon a...</td>\n",
       "      <td>Shah</td>\n",
       "      <td>90</td>\n",
       "      <td>30.0</td>\n",
       "      <td>NaN</td>\n",
       "      <td>Red Blend</td>\n",
       "      <td>Büyülübağ</td>\n",
       "    </tr>\n",
       "    <tr>\n",
       "      <th>129900</th>\n",
       "      <td>NaN</td>\n",
       "      <td>This wine offers a delightful bouquet of black...</td>\n",
       "      <td>NaN</td>\n",
       "      <td>91</td>\n",
       "      <td>32.0</td>\n",
       "      <td>NaN</td>\n",
       "      <td>Merlot</td>\n",
       "      <td>Psagot</td>\n",
       "    </tr>\n",
       "    <tr>\n",
       "      <th>198197</th>\n",
       "      <td>NaN</td>\n",
       "      <td>From first sniff to last, the nose never makes...</td>\n",
       "      <td>Piedra Feliz</td>\n",
       "      <td>81</td>\n",
       "      <td>15.0</td>\n",
       "      <td>NaN</td>\n",
       "      <td>Pinot Noir</td>\n",
       "      <td>Chilcas</td>\n",
       "    </tr>\n",
       "  </tbody>\n",
       "</table>\n",
       "</div>"
      ],
      "text/plain": [
       "       country                                        description  \\\n",
       "913        NaN  Amber in color, this wine has aromas of peach ...   \n",
       "3131       NaN  Soft, fruity and juicy, this is a pleasant, si...   \n",
       "4243       NaN  Violet-red in color, this semisweet wine has a...   \n",
       "9509       NaN  This mouthwatering blend starts with a nose of...   \n",
       "9750       NaN  This orange-style wine has a cloudy yellow-gol...   \n",
       "11150      NaN  A blend of 85% Melnik, 10% Grenache Noir and 5...   \n",
       "11348      NaN  Light and fruity, this is a wine that has some...   \n",
       "14030      NaN  This Furmint, grown in marl soils, has aromas ...   \n",
       "16000      NaN  Jumpy, jammy aromas of foxy black fruits are s...   \n",
       "16749      NaN  Winemaker: Bartho Eksteen. This wooded Sauvy s...   \n",
       "18075      NaN  Delicate white flowers and a spin of lemon pee...   \n",
       "26485      NaN  This wine has aromas of black berry, dried red...   \n",
       "26486      NaN  Aromas of green apple and white flowers prepar...   \n",
       "26489      NaN  Balanced aromas of green herbs and citrus zest...   \n",
       "27822      NaN  This is a reasonably rich, concentrated exampl...   \n",
       "36112      NaN  An interesting blend of indigenous Bulgarian a...   \n",
       "38240      NaN  Subdued citrus and pear notes on the nose find...   \n",
       "38898      NaN  Scents of clover, stem, green herb and red cur...   \n",
       "44674      NaN  Crisp apple freshness almost tips into full ci...   \n",
       "44850      NaN  This blend of Gamay and Prokupe has aromas of ...   \n",
       "44851      NaN  This wine has aromas of honeysuckle and lemon ...   \n",
       "45247      NaN  Just a whiff of citrus shows on the restrained...   \n",
       "45402      NaN  Basic cherry aromas turn more earthy and soupy...   \n",
       "46352      NaN  A dark color and rich, jammy, baked aromas of ...   \n",
       "49425      NaN  This blend is comprised of 55% Merlot, 21% Cab...   \n",
       "49426      NaN  Enticing aromas of blueberry syrup open this b...   \n",
       "49427      NaN  This dark-garnet wine has aromas of eucalyptus...   \n",
       "49510      NaN  Aromas of cherry, blueberry and rose petal pre...   \n",
       "54222      NaN  Almost caramel in color, this wine offers arom...   \n",
       "57612      NaN  Winemaker: Gordon Newton Johnson. This is such...   \n",
       "59670      NaN  The heady florality of damask rose is joined b...   \n",
       "60678      NaN  This wine was made for grilled meats, with its...   \n",
       "66524      NaN  Amber to the eye, this wine features an entici...   \n",
       "68322      NaN  This Bulgarian Chardonnay is fermented in egg-...   \n",
       "72581      NaN  This dry Furmint from Hungary's Balaton region...   \n",
       "79270      NaN  This 100% Vranac is garnet in color, with arom...   \n",
       "81955      NaN  This white blend is comprised of 50% Chardonna...   \n",
       "81957      NaN  This wine is made from grapes grown in the Lak...   \n",
       "85602      NaN  There's a pleasant fruity richness to this win...   \n",
       "85603      NaN  Made from 100% Melnick this garnet-colored win...   \n",
       "85821      NaN  A neutral nose leads onto an apple-fresh palat...   \n",
       "90146      NaN  Aromas of cut grass, lemongrass and honeysuckl...   \n",
       "90151      NaN  This medium-straw-colored wine has aromas of c...   \n",
       "95176      NaN  Aromatic hints of tomato leaf and pea shoots m...   \n",
       "97850      NaN  Streaks of blossom, citrus and pear can be dis...   \n",
       "98094      NaN  This organically produced wine is comprised of...   \n",
       "100570     NaN  Plum, black cherry and anise lead the nose of ...   \n",
       "100722     NaN  This Pinot Gris from Switzerland has aromas of...   \n",
       "105167     NaN  A lively whiff of white blossom, Muscat grapes...   \n",
       "105715     NaN  Aromas of blackberry, strawberry and chocolate...   \n",
       "113520     NaN  Aromas of crushed stone and graphite lead toas...   \n",
       "119787     NaN  This deep red-violet wine has a nose of blackb...   \n",
       "120248     NaN  Dark ruby in the glass, this wine offers a bou...   \n",
       "120799     NaN  Cigar box, cedar and red fruit aromas start th...   \n",
       "124176     NaN  This Swiss red blend is composed of four varie...   \n",
       "129407     NaN  Dry spicy aromas of dusty plum and tomato add ...   \n",
       "129408     NaN  El Capricho is one of Uruguay's more consisten...   \n",
       "129590     NaN  A blend of 60% Syrah, 30% Cabernet Sauvignon a...   \n",
       "129900     NaN  This wine offers a delightful bouquet of black...   \n",
       "198197     NaN  From first sniff to last, the nose never makes...   \n",
       "\n",
       "                                        designation  points  price province  \\\n",
       "913                                  Asureti Valley      87   30.0      NaN   \n",
       "3131                                       Partager      83    NaN      NaN   \n",
       "4243                       Red Naturally Semi-Sweet      88   18.0      NaN   \n",
       "9509                 Theopetra Malagouzia-Assyrtiko      92   28.0      NaN   \n",
       "9750                      Orange Nikolaevo Vineyard      89   28.0      NaN   \n",
       "11150                                           NaN      89   20.0      NaN   \n",
       "11348                                      Partager      82    NaN      NaN   \n",
       "14030                                         Márga      88   25.0      NaN   \n",
       "16000             Valle de los Manantiales Vineyard      86   40.0      NaN   \n",
       "16749       Cape Winemakers Guild Vloekskoot Wooded      91    NaN      NaN   \n",
       "18075                                     Askitikos      90   17.0      NaN   \n",
       "26485                                           NaN      87   13.0      NaN   \n",
       "26486                                           NaN      87   14.0      NaN   \n",
       "26489                                Aliwen Reserva      87   12.0      NaN   \n",
       "27822                                           NaN      86   19.0      NaN   \n",
       "36112           Hrumki Melnik 55 Mourvèdre Marselan      89   25.0      NaN   \n",
       "38240                            Steirische Klassik      89   24.0      NaN   \n",
       "38898                         Wismer-Parke Vineyard      89   34.0      NaN   \n",
       "44674                            Steirische Klassik      91   25.0      NaN   \n",
       "44850                                       Amphora      84    6.0      NaN   \n",
       "44851                                         Royal      84    6.0      NaN   \n",
       "45247                            Steirische Klassik      89   25.0      NaN   \n",
       "45402                        Reserva Estate Bottled      85   12.0      NaN   \n",
       "46352                                      Catalina      91   50.0      NaN   \n",
       "49425               Getika Made With Organic Grapes      88   28.0      NaN   \n",
       "49426               Getika Made With Organic Grapes      88   28.0      NaN   \n",
       "49427     Hrumki Syrah Melnik 55 Mourvèdre Marselan      88   19.0      NaN   \n",
       "49510                                           NaN      91   34.0      NaN   \n",
       "54222                              Babaneuri Valley      87   30.0      NaN   \n",
       "57612               Cape Winemakers Guild Windansea      92    NaN      NaN   \n",
       "59670                                      Steintal      92   38.0      NaN   \n",
       "60678                                           Dry      86   17.0      NaN   \n",
       "66524             Dry Unfiltered Rkatsiteli Mtsvane      88   25.0      NaN   \n",
       "68322                                     Nikolaevo      89   20.0      NaN   \n",
       "72581                                        Estate      89   21.0      NaN   \n",
       "79270                                       Premium      86   11.0      NaN   \n",
       "81955   Nikolaevo Unison Chardonnay-Gewürtztraminer      89   16.0      NaN   \n",
       "81957                                         Márga      89   18.0      NaN   \n",
       "85602                                           NaN      88   36.0      NaN   \n",
       "85603                                        Nobile      88   23.0      NaN   \n",
       "85821                            Steirische Klassik      90   22.0      NaN   \n",
       "90146                            Nikolaevo Vineyard      89   16.0      NaN   \n",
       "90151                                           NaN      89   25.0      NaN   \n",
       "95176                                       Klausen      91   38.0      NaN   \n",
       "97850                               Gemischter Satz      89   17.0      NaN   \n",
       "98094                      Made With Organic Grapes      89   24.0      NaN   \n",
       "100570                             Theopetra Estate      87   37.0      NaN   \n",
       "100722                        Domaine de la Treille      89   25.0      NaN   \n",
       "105167                           Steirische Klassik      92   21.0      NaN   \n",
       "105715                                         Peak      92   50.0      NaN   \n",
       "113520                                      Reserve      90   22.0      NaN   \n",
       "119787                                          NaN      90   30.0      NaN   \n",
       "120248                                     M Series      92   36.0      NaN   \n",
       "120799                                          NaN      90   27.0      NaN   \n",
       "124176                                 Les Romaines      90   30.0      NaN   \n",
       "129407                                      Reserve      89   22.0      NaN   \n",
       "129408                                      Reserve      89   22.0      NaN   \n",
       "129590                                         Shah      90   30.0      NaN   \n",
       "129900                                          NaN      91   32.0      NaN   \n",
       "198197                                 Piedra Feliz      81   15.0      NaN   \n",
       "\n",
       "                      variety                           winery  \n",
       "913                   Chinuri               Gotsa Family Wines  \n",
       "3131                Red Blend                Barton & Guestier  \n",
       "4243                 Ojaleshi  Kakhetia Traditional Winemaking  \n",
       "9509              White Blend                         Tsililis  \n",
       "9750               Chardonnay                         Ross-idi  \n",
       "11150                  Melnik                          Orbelus  \n",
       "11348             White Blend                Barton & Guestier  \n",
       "14030             White Blend                        St. Donat  \n",
       "16000                  Tannat                   Familia Deicas  \n",
       "16749         Sauvignon Blanc                   Bartho Eksteen  \n",
       "18075               Assyrtiko                         Tsililis  \n",
       "26485                  Shiraz                     Stone Castle  \n",
       "26486              Tsolikouri                   Teliani Valley  \n",
       "26489         Sauvignon Blanc                        Undurraga  \n",
       "27822              Pinot Gris                    Mt. Beautiful  \n",
       "36112               Red Blend                          Orbelus  \n",
       "38240           Grauburgunder                       Neumeister  \n",
       "38898              Pinot Noir                        Bachelder  \n",
       "44674           Grauburgunder                       Neumeister  \n",
       "44850               Red Blend                     Stone Castle  \n",
       "44851                Riesling                     Stone Castle  \n",
       "45247         Sauvignon Blanc                       Neumeister  \n",
       "45402              Pinot Noir                          Chilcas  \n",
       "46352               Red Blend                        Santa Ema  \n",
       "49425               Red Blend                          Orbelus  \n",
       "49426               Red Blend                          Orbelus  \n",
       "49427               Red Blend                          Orbelus  \n",
       "49510      Cabernet Sauvignon                           Psagot  \n",
       "54222                 Mtsvane               Gotsa Family Wines  \n",
       "57612              Pinot Noir                   Newton Johnson  \n",
       "59670          Roter Traminer                       Neumeister  \n",
       "60678                    Rosé                    Ktima Voyatzi  \n",
       "66524             White Blend               Gotsa Family Wines  \n",
       "68322              Chardonnay                         Ross-idi  \n",
       "72581                 Furmint                        St. Donat  \n",
       "79270                  Vranac                     Stone Castle  \n",
       "81955             White Blend                         Ross-idi  \n",
       "81957                 Furmint                        St. Donat  \n",
       "85602              Chardonnay                          Lismore  \n",
       "85603                  Melnik                          Logodaj  \n",
       "85821                Morillon                       Neumeister  \n",
       "90146          Gewürztraminer                         Ross-idi  \n",
       "90151                 Furmint                    Somlói Vándor  \n",
       "95176         Sauvignon Blanc                       Neumeister  \n",
       "97850    Austrian white blend                       Neumeister  \n",
       "98094                  Melnik                          Orbelus  \n",
       "100570              Red Blend                         Tsililis  \n",
       "100722             Pinot Gris                Les Frères Dutruy  \n",
       "105167     Gelber Muskateller                       Neumeister  \n",
       "105715  Rhône-style Red Blend                           Psagot  \n",
       "113520                 Tannat                      El Capricho  \n",
       "119787      Otskhanuri Sapere                Amiran Vepkhvadze  \n",
       "120248         Cabernet Franc                           Psagot  \n",
       "120799           Tsapournakos                    Ktima Voyatzi  \n",
       "124176              Red Blend                Les Frères Dutruy  \n",
       "129407     Cabernet Sauvignon                      El Capricho  \n",
       "129408            Tempranillo                      El Capricho  \n",
       "129590              Red Blend                        Büyülübağ  \n",
       "129900                 Merlot                           Psagot  \n",
       "198197             Pinot Noir                          Chilcas  "
      ]
     },
     "execution_count": 13,
     "metadata": {},
     "output_type": "execute_result"
    }
   ],
   "source": [
    "data[data.country.isnull()]"
   ]
  },
  {
   "cell_type": "markdown",
   "metadata": {},
   "source": [
    "country의 결실수치가 60건으로, 이 데이터에 큰 영향은 없다. \n",
    "그래서 dupplicated방식으로 삭제한다. "
   ]
  },
  {
   "cell_type": "code",
   "execution_count": 14,
   "metadata": {
    "scrolled": true
   },
   "outputs": [],
   "source": [
    "data = data.dropna(subset=['country'], axis = 0)"
   ]
  },
  {
   "cell_type": "code",
   "execution_count": 15,
   "metadata": {},
   "outputs": [
    {
     "data": {
      "text/plain": [
       "(12835, 9)"
      ]
     },
     "execution_count": 15,
     "metadata": {},
     "output_type": "execute_result"
    }
   ],
   "source": [
    "pricnul=data[data['price'].isnull()]\n",
    "pricnul.reset_index(inplace=True)\n",
    "pricnul. shape"
   ]
  },
  {
   "cell_type": "markdown",
   "metadata": {},
   "source": [
    "총결실수치는 12839건으로, 결실수치는 5%이상."
   ]
  },
  {
   "cell_type": "code",
   "execution_count": 16,
   "metadata": {},
   "outputs": [
    {
     "data": {
      "text/plain": [
       "France          6219\n",
       "Italy           3753\n",
       "Portugal        1136\n",
       "Austria          673\n",
       "US               349\n",
       "New Zealand      142\n",
       "Spain            119\n",
       "South Africa     118\n",
       "Germany           73\n",
       "Australia         72\n",
       "Chile             66\n",
       "Argentina         57\n",
       "Israel            17\n",
       "Greece             8\n",
       "Slovenia           7\n",
       "Brazil             5\n",
       "England            4\n",
       "Egypt              3\n",
       "Croatia            3\n",
       "Uruguay            3\n",
       "Tunisia            2\n",
       "Canada             2\n",
       "Georgia            2\n",
       "Hungary            1\n",
       "Turkey             1\n",
       "Name: country, dtype: int64"
      ]
     },
     "execution_count": 16,
     "metadata": {},
     "output_type": "execute_result"
    }
   ],
   "source": [
    "country_pricnul=pd.value_counts(pricnul. country)\n",
    "country_pricnul"
   ]
  },
  {
   "cell_type": "markdown",
   "metadata": {},
   "source": [
    "본 결실수치는 어느나라에서 왔는 지 검사\n",
    "위와 같이 결실수치나라와 그에 대한 결실수치수량에 대한 결과만 알수 있기 때문에 \n",
    "원본 수치중의 국가변량을 입력하고, 각 국가의 결실评分의 수치점수와 그 나라의 총 조사수치의 비중을 계산한다. 결과는 다음과 같다."
   ]
  },
  {
   "cell_type": "code",
   "execution_count": 17,
   "metadata": {},
   "outputs": [
    {
     "data": {
      "text/html": [
       "<style  type=\"text/css\" >\n",
       "    #T_f6801df6_fba1_11ea_a202_9883897efad3row0_col0 {\n",
       "            background-color:  #ff0000;\n",
       "            color:  #f1f1f1;\n",
       "        }    #T_f6801df6_fba1_11ea_a202_9883897efad3row0_col1 {\n",
       "            background-color:  #ff8d8d;\n",
       "            color:  #000000;\n",
       "        }    #T_f6801df6_fba1_11ea_a202_9883897efad3row0_col2 {\n",
       "            background-color:  #ffb2b2;\n",
       "            color:  #000000;\n",
       "        }    #T_f6801df6_fba1_11ea_a202_9883897efad3row1_col0 {\n",
       "            background-color:  #ff5b5b;\n",
       "            color:  #000000;\n",
       "        }    #T_f6801df6_fba1_11ea_a202_9883897efad3row1_col1 {\n",
       "            background-color:  #ff9494;\n",
       "            color:  #000000;\n",
       "        }    #T_f6801df6_fba1_11ea_a202_9883897efad3row1_col2 {\n",
       "            background-color:  #ffc4c4;\n",
       "            color:  #000000;\n",
       "        }    #T_f6801df6_fba1_11ea_a202_9883897efad3row2_col0 {\n",
       "            background-color:  #ffbcbc;\n",
       "            color:  #000000;\n",
       "        }    #T_f6801df6_fba1_11ea_a202_9883897efad3row2_col1 {\n",
       "            background-color:  #ffd0d0;\n",
       "            color:  #000000;\n",
       "        }    #T_f6801df6_fba1_11ea_a202_9883897efad3row2_col2 {\n",
       "            background-color:  #ffc1c1;\n",
       "            color:  #000000;\n",
       "        }    #T_f6801df6_fba1_11ea_a202_9883897efad3row3_col0 {\n",
       "            background-color:  #ffcdcd;\n",
       "            color:  #000000;\n",
       "        }    #T_f6801df6_fba1_11ea_a202_9883897efad3row3_col1 {\n",
       "            background-color:  #ffd9d9;\n",
       "            color:  #000000;\n",
       "        }    #T_f6801df6_fba1_11ea_a202_9883897efad3row3_col2 {\n",
       "            background-color:  #ffc0c0;\n",
       "            color:  #000000;\n",
       "        }    #T_f6801df6_fba1_11ea_a202_9883897efad3row4_col0 {\n",
       "            background-color:  #ffd9d9;\n",
       "            color:  #000000;\n",
       "        }    #T_f6801df6_fba1_11ea_a202_9883897efad3row4_col1 {\n",
       "            background-color:  #ff0000;\n",
       "            color:  #f1f1f1;\n",
       "        }    #T_f6801df6_fba1_11ea_a202_9883897efad3row4_col2 {\n",
       "            background-color:  #ffe5e5;\n",
       "            color:  #000000;\n",
       "        }    #T_f6801df6_fba1_11ea_a202_9883897efad3row5_col0 {\n",
       "            background-color:  #ffe1e1;\n",
       "            color:  #000000;\n",
       "        }    #T_f6801df6_fba1_11ea_a202_9883897efad3row5_col1 {\n",
       "            background-color:  #ffdddd;\n",
       "            color:  #000000;\n",
       "        }    #T_f6801df6_fba1_11ea_a202_9883897efad3row5_col2 {\n",
       "            background-color:  #ffdbdb;\n",
       "            color:  #000000;\n",
       "        }    #T_f6801df6_fba1_11ea_a202_9883897efad3row6_col0 {\n",
       "            background-color:  #ffe2e2;\n",
       "            color:  #000000;\n",
       "        }    #T_f6801df6_fba1_11ea_a202_9883897efad3row6_col1 {\n",
       "            background-color:  #ffcaca;\n",
       "            color:  #000000;\n",
       "        }    #T_f6801df6_fba1_11ea_a202_9883897efad3row6_col2 {\n",
       "            background-color:  #ffe4e4;\n",
       "            color:  #000000;\n",
       "        }    #T_f6801df6_fba1_11ea_a202_9883897efad3row7_col0 {\n",
       "            background-color:  #ffe2e2;\n",
       "            color:  #000000;\n",
       "        }    #T_f6801df6_fba1_11ea_a202_9883897efad3row7_col1 {\n",
       "            background-color:  #ffdfdf;\n",
       "            color:  #000000;\n",
       "        }    #T_f6801df6_fba1_11ea_a202_9883897efad3row7_col2 {\n",
       "            background-color:  #ffdbdb;\n",
       "            color:  #000000;\n",
       "        }    #T_f6801df6_fba1_11ea_a202_9883897efad3row8_col0 {\n",
       "            background-color:  #ffe4e4;\n",
       "            color:  #000000;\n",
       "        }    #T_f6801df6_fba1_11ea_a202_9883897efad3row8_col1 {\n",
       "            background-color:  #ffdcdc;\n",
       "            color:  #000000;\n",
       "        }    #T_f6801df6_fba1_11ea_a202_9883897efad3row8_col2 {\n",
       "            background-color:  #ffe1e1;\n",
       "            color:  #000000;\n",
       "        }    #T_f6801df6_fba1_11ea_a202_9883897efad3row9_col0 {\n",
       "            background-color:  #ffe4e4;\n",
       "            color:  #000000;\n",
       "        }    #T_f6801df6_fba1_11ea_a202_9883897efad3row9_col1 {\n",
       "            background-color:  #ffd8d8;\n",
       "            color:  #000000;\n",
       "        }    #T_f6801df6_fba1_11ea_a202_9883897efad3row9_col2 {\n",
       "            background-color:  #ffe4e4;\n",
       "            color:  #000000;\n",
       "        }    #T_f6801df6_fba1_11ea_a202_9883897efad3row10_col0 {\n",
       "            background-color:  #ffe4e4;\n",
       "            color:  #000000;\n",
       "        }    #T_f6801df6_fba1_11ea_a202_9883897efad3row10_col1 {\n",
       "            background-color:  #ffd2d2;\n",
       "            color:  #000000;\n",
       "        }    #T_f6801df6_fba1_11ea_a202_9883897efad3row10_col2 {\n",
       "            background-color:  #ffe5e5;\n",
       "            color:  #000000;\n",
       "        }    #T_f6801df6_fba1_11ea_a202_9883897efad3row11_col0 {\n",
       "            background-color:  #ffe4e4;\n",
       "            color:  #000000;\n",
       "        }    #T_f6801df6_fba1_11ea_a202_9883897efad3row11_col1 {\n",
       "            background-color:  #ffd4d4;\n",
       "            color:  #000000;\n",
       "        }    #T_f6801df6_fba1_11ea_a202_9883897efad3row11_col2 {\n",
       "            background-color:  #ffe5e5;\n",
       "            color:  #000000;\n",
       "        }    #T_f6801df6_fba1_11ea_a202_9883897efad3row12_col0 {\n",
       "            background-color:  #ffe5e5;\n",
       "            color:  #000000;\n",
       "        }    #T_f6801df6_fba1_11ea_a202_9883897efad3row12_col1 {\n",
       "            background-color:  #ffe4e4;\n",
       "            color:  #000000;\n",
       "        }    #T_f6801df6_fba1_11ea_a202_9883897efad3row12_col2 {\n",
       "            background-color:  #ffe0e0;\n",
       "            color:  #000000;\n",
       "        }    #T_f6801df6_fba1_11ea_a202_9883897efad3row13_col0 {\n",
       "            background-color:  #ffe5e5;\n",
       "            color:  #000000;\n",
       "        }    #T_f6801df6_fba1_11ea_a202_9883897efad3row13_col1 {\n",
       "            background-color:  #ffe4e4;\n",
       "            color:  #000000;\n",
       "        }    #T_f6801df6_fba1_11ea_a202_9883897efad3row13_col2 {\n",
       "            background-color:  #ffe5e5;\n",
       "            color:  #000000;\n",
       "        }    #T_f6801df6_fba1_11ea_a202_9883897efad3row14_col0 {\n",
       "            background-color:  #ffe5e5;\n",
       "            color:  #000000;\n",
       "        }    #T_f6801df6_fba1_11ea_a202_9883897efad3row14_col1 {\n",
       "            background-color:  #ffe5e5;\n",
       "            color:  #000000;\n",
       "        }    #T_f6801df6_fba1_11ea_a202_9883897efad3row14_col2 {\n",
       "            background-color:  #ffd6d6;\n",
       "            color:  #000000;\n",
       "        }    #T_f6801df6_fba1_11ea_a202_9883897efad3row15_col0 {\n",
       "            background-color:  #ffe5e5;\n",
       "            color:  #000000;\n",
       "        }    #T_f6801df6_fba1_11ea_a202_9883897efad3row15_col1 {\n",
       "            background-color:  #ffe5e5;\n",
       "            color:  #000000;\n",
       "        }    #T_f6801df6_fba1_11ea_a202_9883897efad3row15_col2 {\n",
       "            background-color:  #ffd3d3;\n",
       "            color:  #000000;\n",
       "        }    #T_f6801df6_fba1_11ea_a202_9883897efad3row16_col0 {\n",
       "            background-color:  #ffe5e5;\n",
       "            color:  #000000;\n",
       "        }    #T_f6801df6_fba1_11ea_a202_9883897efad3row16_col1 {\n",
       "            background-color:  #ffe5e5;\n",
       "            color:  #000000;\n",
       "        }    #T_f6801df6_fba1_11ea_a202_9883897efad3row16_col2 {\n",
       "            background-color:  #ffd9d9;\n",
       "            color:  #000000;\n",
       "        }    #T_f6801df6_fba1_11ea_a202_9883897efad3row17_col0 {\n",
       "            background-color:  #ffe5e5;\n",
       "            color:  #000000;\n",
       "        }    #T_f6801df6_fba1_11ea_a202_9883897efad3row17_col1 {\n",
       "            background-color:  #ffe5e5;\n",
       "            color:  #000000;\n",
       "        }    #T_f6801df6_fba1_11ea_a202_9883897efad3row17_col2 {\n",
       "            background-color:  #ff0000;\n",
       "            color:  #f1f1f1;\n",
       "        }    #T_f6801df6_fba1_11ea_a202_9883897efad3row18_col0 {\n",
       "            background-color:  #ffe5e5;\n",
       "            color:  #000000;\n",
       "        }    #T_f6801df6_fba1_11ea_a202_9883897efad3row18_col1 {\n",
       "            background-color:  #ffe5e5;\n",
       "            color:  #000000;\n",
       "        }    #T_f6801df6_fba1_11ea_a202_9883897efad3row18_col2 {\n",
       "            background-color:  #ffe0e0;\n",
       "            color:  #000000;\n",
       "        }    #T_f6801df6_fba1_11ea_a202_9883897efad3row19_col0 {\n",
       "            background-color:  #ffe5e5;\n",
       "            color:  #000000;\n",
       "        }    #T_f6801df6_fba1_11ea_a202_9883897efad3row19_col1 {\n",
       "            background-color:  #ffe5e5;\n",
       "            color:  #000000;\n",
       "        }    #T_f6801df6_fba1_11ea_a202_9883897efad3row19_col2 {\n",
       "            background-color:  #ffe2e2;\n",
       "            color:  #000000;\n",
       "        }    #T_f6801df6_fba1_11ea_a202_9883897efad3row20_col0 {\n",
       "            background-color:  #ffe5e5;\n",
       "            color:  #000000;\n",
       "        }    #T_f6801df6_fba1_11ea_a202_9883897efad3row20_col1 {\n",
       "            background-color:  #ffe5e5;\n",
       "            color:  #000000;\n",
       "        }    #T_f6801df6_fba1_11ea_a202_9883897efad3row20_col2 {\n",
       "            background-color:  #ff0000;\n",
       "            color:  #f1f1f1;\n",
       "        }    #T_f6801df6_fba1_11ea_a202_9883897efad3row21_col0 {\n",
       "            background-color:  #ffe5e5;\n",
       "            color:  #000000;\n",
       "        }    #T_f6801df6_fba1_11ea_a202_9883897efad3row21_col1 {\n",
       "            background-color:  #ffe5e5;\n",
       "            color:  #000000;\n",
       "        }    #T_f6801df6_fba1_11ea_a202_9883897efad3row21_col2 {\n",
       "            background-color:  #ffe5e5;\n",
       "            color:  #000000;\n",
       "        }    #T_f6801df6_fba1_11ea_a202_9883897efad3row22_col0 {\n",
       "            background-color:  #ffe5e5;\n",
       "            color:  #000000;\n",
       "        }    #T_f6801df6_fba1_11ea_a202_9883897efad3row22_col1 {\n",
       "            background-color:  #ffe5e5;\n",
       "            color:  #000000;\n",
       "        }    #T_f6801df6_fba1_11ea_a202_9883897efad3row22_col2 {\n",
       "            background-color:  #ffe2e2;\n",
       "            color:  #000000;\n",
       "        }    #T_f6801df6_fba1_11ea_a202_9883897efad3row23_col0 {\n",
       "            background-color:  #ffe5e5;\n",
       "            color:  #000000;\n",
       "        }    #T_f6801df6_fba1_11ea_a202_9883897efad3row23_col1 {\n",
       "            background-color:  #ffe5e5;\n",
       "            color:  #000000;\n",
       "        }    #T_f6801df6_fba1_11ea_a202_9883897efad3row23_col2 {\n",
       "            background-color:  #ffe5e5;\n",
       "            color:  #000000;\n",
       "        }    #T_f6801df6_fba1_11ea_a202_9883897efad3row24_col0 {\n",
       "            background-color:  #ffe5e5;\n",
       "            color:  #000000;\n",
       "        }    #T_f6801df6_fba1_11ea_a202_9883897efad3row24_col1 {\n",
       "            background-color:  #ffe5e5;\n",
       "            color:  #000000;\n",
       "        }    #T_f6801df6_fba1_11ea_a202_9883897efad3row24_col2 {\n",
       "            background-color:  #ffe5e5;\n",
       "            color:  #000000;\n",
       "        }</style><table id=\"T_f6801df6_fba1_11ea_a202_9883897efad3\" ><thead>    <tr>        <th class=\"blank level0\" ></th>        <th class=\"col_heading level0 col0\" >nulsum</th>        <th class=\"col_heading level0 col1\" >sum</th>        <th class=\"col_heading level0 col2\" >ratio</th>    </tr></thead><tbody>\n",
       "                <tr>\n",
       "                        <th id=\"T_f6801df6_fba1_11ea_a202_9883897efad3level0_row0\" class=\"row_heading level0 row0\" >France</th>\n",
       "                        <td id=\"T_f6801df6_fba1_11ea_a202_9883897efad3row0_col0\" class=\"data row0 col0\" >6219</td>\n",
       "                        <td id=\"T_f6801df6_fba1_11ea_a202_9883897efad3row0_col1\" class=\"data row0 col1\" >27220</td>\n",
       "                        <td id=\"T_f6801df6_fba1_11ea_a202_9883897efad3row0_col2\" class=\"data row0 col2\" >0.228472</td>\n",
       "            </tr>\n",
       "            <tr>\n",
       "                        <th id=\"T_f6801df6_fba1_11ea_a202_9883897efad3level0_row1\" class=\"row_heading level0 row1\" >Italy</th>\n",
       "                        <td id=\"T_f6801df6_fba1_11ea_a202_9883897efad3row1_col0\" class=\"data row1 col0\" >3753</td>\n",
       "                        <td id=\"T_f6801df6_fba1_11ea_a202_9883897efad3row1_col1\" class=\"data row1 col1\" >25016</td>\n",
       "                        <td id=\"T_f6801df6_fba1_11ea_a202_9883897efad3row1_col2\" class=\"data row1 col2\" >0.150024</td>\n",
       "            </tr>\n",
       "            <tr>\n",
       "                        <th id=\"T_f6801df6_fba1_11ea_a202_9883897efad3level0_row2\" class=\"row_heading level0 row2\" >Portugal</th>\n",
       "                        <td id=\"T_f6801df6_fba1_11ea_a202_9883897efad3row2_col0\" class=\"data row2 col0\" >1136</td>\n",
       "                        <td id=\"T_f6801df6_fba1_11ea_a202_9883897efad3row2_col1\" class=\"data row2 col1\" >6914</td>\n",
       "                        <td id=\"T_f6801df6_fba1_11ea_a202_9883897efad3row2_col2\" class=\"data row2 col2\" >0.164304</td>\n",
       "            </tr>\n",
       "            <tr>\n",
       "                        <th id=\"T_f6801df6_fba1_11ea_a202_9883897efad3level0_row3\" class=\"row_heading level0 row3\" >Austria</th>\n",
       "                        <td id=\"T_f6801df6_fba1_11ea_a202_9883897efad3row3_col0\" class=\"data row3 col0\" >673</td>\n",
       "                        <td id=\"T_f6801df6_fba1_11ea_a202_9883897efad3row3_col1\" class=\"data row3 col1\" >3968</td>\n",
       "                        <td id=\"T_f6801df6_fba1_11ea_a202_9883897efad3row3_col2\" class=\"data row3 col2\" >0.169607</td>\n",
       "            </tr>\n",
       "            <tr>\n",
       "                        <th id=\"T_f6801df6_fba1_11ea_a202_9883897efad3level0_row4\" class=\"row_heading level0 row4\" >US</th>\n",
       "                        <td id=\"T_f6801df6_fba1_11ea_a202_9883897efad3row4_col0\" class=\"data row4 col0\" >349</td>\n",
       "                        <td id=\"T_f6801df6_fba1_11ea_a202_9883897efad3row4_col1\" class=\"data row4 col1\" >70922</td>\n",
       "                        <td id=\"T_f6801df6_fba1_11ea_a202_9883897efad3row4_col2\" class=\"data row4 col2\" >0.004921</td>\n",
       "            </tr>\n",
       "            <tr>\n",
       "                        <th id=\"T_f6801df6_fba1_11ea_a202_9883897efad3level0_row5\" class=\"row_heading level0 row5\" >New Zealand</th>\n",
       "                        <td id=\"T_f6801df6_fba1_11ea_a202_9883897efad3row5_col0\" class=\"data row5 col0\" >142</td>\n",
       "                        <td id=\"T_f6801df6_fba1_11ea_a202_9883897efad3row5_col1\" class=\"data row5 col1\" >2594</td>\n",
       "                        <td id=\"T_f6801df6_fba1_11ea_a202_9883897efad3row5_col2\" class=\"data row5 col2\" >0.054742</td>\n",
       "            </tr>\n",
       "            <tr>\n",
       "                        <th id=\"T_f6801df6_fba1_11ea_a202_9883897efad3level0_row6\" class=\"row_heading level0 row6\" >Spain</th>\n",
       "                        <td id=\"T_f6801df6_fba1_11ea_a202_9883897efad3row6_col0\" class=\"data row6 col0\" >119</td>\n",
       "                        <td id=\"T_f6801df6_fba1_11ea_a202_9883897efad3row6_col1\" class=\"data row6 col1\" >8833</td>\n",
       "                        <td id=\"T_f6801df6_fba1_11ea_a202_9883897efad3row6_col2\" class=\"data row6 col2\" >0.013472</td>\n",
       "            </tr>\n",
       "            <tr>\n",
       "                        <th id=\"T_f6801df6_fba1_11ea_a202_9883897efad3level0_row7\" class=\"row_heading level0 row7\" >South Africa</th>\n",
       "                        <td id=\"T_f6801df6_fba1_11ea_a202_9883897efad3row7_col0\" class=\"data row7 col0\" >118</td>\n",
       "                        <td id=\"T_f6801df6_fba1_11ea_a202_9883897efad3row7_col1\" class=\"data row7 col1\" >2194</td>\n",
       "                        <td id=\"T_f6801df6_fba1_11ea_a202_9883897efad3row7_col2\" class=\"data row7 col2\" >0.053783</td>\n",
       "            </tr>\n",
       "            <tr>\n",
       "                        <th id=\"T_f6801df6_fba1_11ea_a202_9883897efad3level0_row8\" class=\"row_heading level0 row8\" >Germany</th>\n",
       "                        <td id=\"T_f6801df6_fba1_11ea_a202_9883897efad3row8_col0\" class=\"data row8 col0\" >73</td>\n",
       "                        <td id=\"T_f6801df6_fba1_11ea_a202_9883897efad3row8_col1\" class=\"data row8 col1\" >2795</td>\n",
       "                        <td id=\"T_f6801df6_fba1_11ea_a202_9883897efad3row8_col2\" class=\"data row8 col2\" >0.026118</td>\n",
       "            </tr>\n",
       "            <tr>\n",
       "                        <th id=\"T_f6801df6_fba1_11ea_a202_9883897efad3level0_row9\" class=\"row_heading level0 row9\" >Australia</th>\n",
       "                        <td id=\"T_f6801df6_fba1_11ea_a202_9883897efad3row9_col0\" class=\"data row9 col0\" >72</td>\n",
       "                        <td id=\"T_f6801df6_fba1_11ea_a202_9883897efad3row9_col1\" class=\"data row9 col1\" >4412</td>\n",
       "                        <td id=\"T_f6801df6_fba1_11ea_a202_9883897efad3row9_col2\" class=\"data row9 col2\" >0.016319</td>\n",
       "            </tr>\n",
       "            <tr>\n",
       "                        <th id=\"T_f6801df6_fba1_11ea_a202_9883897efad3level0_row10\" class=\"row_heading level0 row10\" >Chile</th>\n",
       "                        <td id=\"T_f6801df6_fba1_11ea_a202_9883897efad3row10_col0\" class=\"data row10 col0\" >66</td>\n",
       "                        <td id=\"T_f6801df6_fba1_11ea_a202_9883897efad3row10_col1\" class=\"data row10 col1\" >6134</td>\n",
       "                        <td id=\"T_f6801df6_fba1_11ea_a202_9883897efad3row10_col2\" class=\"data row10 col2\" >0.010760</td>\n",
       "            </tr>\n",
       "            <tr>\n",
       "                        <th id=\"T_f6801df6_fba1_11ea_a202_9883897efad3level0_row11\" class=\"row_heading level0 row11\" >Argentina</th>\n",
       "                        <td id=\"T_f6801df6_fba1_11ea_a202_9883897efad3row11_col0\" class=\"data row11 col0\" >57</td>\n",
       "                        <td id=\"T_f6801df6_fba1_11ea_a202_9883897efad3row11_col1\" class=\"data row11 col1\" >5472</td>\n",
       "                        <td id=\"T_f6801df6_fba1_11ea_a202_9883897efad3row11_col2\" class=\"data row11 col2\" >0.010417</td>\n",
       "            </tr>\n",
       "            <tr>\n",
       "                        <th id=\"T_f6801df6_fba1_11ea_a202_9883897efad3level0_row12\" class=\"row_heading level0 row12\" >Israel</th>\n",
       "                        <td id=\"T_f6801df6_fba1_11ea_a202_9883897efad3row12_col0\" class=\"data row12 col0\" >17</td>\n",
       "                        <td id=\"T_f6801df6_fba1_11ea_a202_9883897efad3row12_col1\" class=\"data row12 col1\" >596</td>\n",
       "                        <td id=\"T_f6801df6_fba1_11ea_a202_9883897efad3row12_col2\" class=\"data row12 col2\" >0.028523</td>\n",
       "            </tr>\n",
       "            <tr>\n",
       "                        <th id=\"T_f6801df6_fba1_11ea_a202_9883897efad3level0_row13\" class=\"row_heading level0 row13\" >Greece</th>\n",
       "                        <td id=\"T_f6801df6_fba1_11ea_a202_9883897efad3row13_col0\" class=\"data row13 col0\" >8</td>\n",
       "                        <td id=\"T_f6801df6_fba1_11ea_a202_9883897efad3row13_col1\" class=\"data row13 col1\" >750</td>\n",
       "                        <td id=\"T_f6801df6_fba1_11ea_a202_9883897efad3row13_col2\" class=\"data row13 col2\" >0.010667</td>\n",
       "            </tr>\n",
       "            <tr>\n",
       "                        <th id=\"T_f6801df6_fba1_11ea_a202_9883897efad3level0_row14\" class=\"row_heading level0 row14\" >Slovenia</th>\n",
       "                        <td id=\"T_f6801df6_fba1_11ea_a202_9883897efad3row14_col0\" class=\"data row14 col0\" >7</td>\n",
       "                        <td id=\"T_f6801df6_fba1_11ea_a202_9883897efad3row14_col1\" class=\"data row14 col1\" >95</td>\n",
       "                        <td id=\"T_f6801df6_fba1_11ea_a202_9883897efad3row14_col2\" class=\"data row14 col2\" >0.073684</td>\n",
       "            </tr>\n",
       "            <tr>\n",
       "                        <th id=\"T_f6801df6_fba1_11ea_a202_9883897efad3level0_row15\" class=\"row_heading level0 row15\" >Brazil</th>\n",
       "                        <td id=\"T_f6801df6_fba1_11ea_a202_9883897efad3row15_col0\" class=\"data row15 col0\" >5</td>\n",
       "                        <td id=\"T_f6801df6_fba1_11ea_a202_9883897efad3row15_col1\" class=\"data row15 col1\" >57</td>\n",
       "                        <td id=\"T_f6801df6_fba1_11ea_a202_9883897efad3row15_col2\" class=\"data row15 col2\" >0.087719</td>\n",
       "            </tr>\n",
       "            <tr>\n",
       "                        <th id=\"T_f6801df6_fba1_11ea_a202_9883897efad3level0_row16\" class=\"row_heading level0 row16\" >England</th>\n",
       "                        <td id=\"T_f6801df6_fba1_11ea_a202_9883897efad3row16_col0\" class=\"data row16 col0\" >4</td>\n",
       "                        <td id=\"T_f6801df6_fba1_11ea_a202_9883897efad3row16_col1\" class=\"data row16 col1\" >64</td>\n",
       "                        <td id=\"T_f6801df6_fba1_11ea_a202_9883897efad3row16_col2\" class=\"data row16 col2\" >0.062500</td>\n",
       "            </tr>\n",
       "            <tr>\n",
       "                        <th id=\"T_f6801df6_fba1_11ea_a202_9883897efad3level0_row17\" class=\"row_heading level0 row17\" >Egypt</th>\n",
       "                        <td id=\"T_f6801df6_fba1_11ea_a202_9883897efad3row17_col0\" class=\"data row17 col0\" >3</td>\n",
       "                        <td id=\"T_f6801df6_fba1_11ea_a202_9883897efad3row17_col1\" class=\"data row17 col1\" >3</td>\n",
       "                        <td id=\"T_f6801df6_fba1_11ea_a202_9883897efad3row17_col2\" class=\"data row17 col2\" >1.000000</td>\n",
       "            </tr>\n",
       "            <tr>\n",
       "                        <th id=\"T_f6801df6_fba1_11ea_a202_9883897efad3level0_row18\" class=\"row_heading level0 row18\" >Croatia</th>\n",
       "                        <td id=\"T_f6801df6_fba1_11ea_a202_9883897efad3row18_col0\" class=\"data row18 col0\" >3</td>\n",
       "                        <td id=\"T_f6801df6_fba1_11ea_a202_9883897efad3row18_col1\" class=\"data row18 col1\" >94</td>\n",
       "                        <td id=\"T_f6801df6_fba1_11ea_a202_9883897efad3row18_col2\" class=\"data row18 col2\" >0.031915</td>\n",
       "            </tr>\n",
       "            <tr>\n",
       "                        <th id=\"T_f6801df6_fba1_11ea_a202_9883897efad3level0_row19\" class=\"row_heading level0 row19\" >Uruguay</th>\n",
       "                        <td id=\"T_f6801df6_fba1_11ea_a202_9883897efad3row19_col0\" class=\"data row19 col0\" >3</td>\n",
       "                        <td id=\"T_f6801df6_fba1_11ea_a202_9883897efad3row19_col1\" class=\"data row19 col1\" >142</td>\n",
       "                        <td id=\"T_f6801df6_fba1_11ea_a202_9883897efad3row19_col2\" class=\"data row19 col2\" >0.021127</td>\n",
       "            </tr>\n",
       "            <tr>\n",
       "                        <th id=\"T_f6801df6_fba1_11ea_a202_9883897efad3level0_row20\" class=\"row_heading level0 row20\" >Tunisia</th>\n",
       "                        <td id=\"T_f6801df6_fba1_11ea_a202_9883897efad3row20_col0\" class=\"data row20 col0\" >2</td>\n",
       "                        <td id=\"T_f6801df6_fba1_11ea_a202_9883897efad3row20_col1\" class=\"data row20 col1\" >2</td>\n",
       "                        <td id=\"T_f6801df6_fba1_11ea_a202_9883897efad3row20_col2\" class=\"data row20 col2\" >1.000000</td>\n",
       "            </tr>\n",
       "            <tr>\n",
       "                        <th id=\"T_f6801df6_fba1_11ea_a202_9883897efad3level0_row21\" class=\"row_heading level0 row21\" >Canada</th>\n",
       "                        <td id=\"T_f6801df6_fba1_11ea_a202_9883897efad3row21_col0\" class=\"data row21 col0\" >2</td>\n",
       "                        <td id=\"T_f6801df6_fba1_11ea_a202_9883897efad3row21_col1\" class=\"data row21 col1\" >274</td>\n",
       "                        <td id=\"T_f6801df6_fba1_11ea_a202_9883897efad3row21_col2\" class=\"data row21 col2\" >0.007299</td>\n",
       "            </tr>\n",
       "            <tr>\n",
       "                        <th id=\"T_f6801df6_fba1_11ea_a202_9883897efad3level0_row22\" class=\"row_heading level0 row22\" >Georgia</th>\n",
       "                        <td id=\"T_f6801df6_fba1_11ea_a202_9883897efad3row22_col0\" class=\"data row22 col0\" >2</td>\n",
       "                        <td id=\"T_f6801df6_fba1_11ea_a202_9883897efad3row22_col1\" class=\"data row22 col1\" >86</td>\n",
       "                        <td id=\"T_f6801df6_fba1_11ea_a202_9883897efad3row22_col2\" class=\"data row22 col2\" >0.023256</td>\n",
       "            </tr>\n",
       "            <tr>\n",
       "                        <th id=\"T_f6801df6_fba1_11ea_a202_9883897efad3level0_row23\" class=\"row_heading level0 row23\" >Hungary</th>\n",
       "                        <td id=\"T_f6801df6_fba1_11ea_a202_9883897efad3row23_col0\" class=\"data row23 col0\" >1</td>\n",
       "                        <td id=\"T_f6801df6_fba1_11ea_a202_9883897efad3row23_col1\" class=\"data row23 col1\" >210</td>\n",
       "                        <td id=\"T_f6801df6_fba1_11ea_a202_9883897efad3row23_col2\" class=\"data row23 col2\" >0.004762</td>\n",
       "            </tr>\n",
       "            <tr>\n",
       "                        <th id=\"T_f6801df6_fba1_11ea_a202_9883897efad3level0_row24\" class=\"row_heading level0 row24\" >Turkey</th>\n",
       "                        <td id=\"T_f6801df6_fba1_11ea_a202_9883897efad3row24_col0\" class=\"data row24 col0\" >1</td>\n",
       "                        <td id=\"T_f6801df6_fba1_11ea_a202_9883897efad3row24_col1\" class=\"data row24 col1\" >88</td>\n",
       "                        <td id=\"T_f6801df6_fba1_11ea_a202_9883897efad3row24_col2\" class=\"data row24 col2\" >0.011364</td>\n",
       "            </tr>\n",
       "    </tbody></table>"
      ],
      "text/plain": [
       "<pandas.io.formats.style.Styler at 0x1d3f98c3288>"
      ]
     },
     "execution_count": 17,
     "metadata": {},
     "output_type": "execute_result"
    }
   ],
   "source": [
    "country_pricnul=pd. value_counts(pricnul. country)\n",
    "country_pric=pd. value_counts(data. country)\n",
    "country_pricnul=pd. DataFrame(country_pricnul)\n",
    "country_pric=pd.DataFrame(country_pric)\n",
    "country_pricnul. rename(columns={'country':'nulsum'},inplace=True)\n",
    "country_pric.rename(columns={'country':'sum'},inplace=True)\n",
    "merge=pd.merge(country_pricnul, country_pric, left_index=True, right_index=True)\n",
    "merge['ratio']=merge['nulsum']/merge['sum']\n",
    "cm = sns.light_palette(\"red\", as_cmap=True)\n",
    "merge.style.background_gradient(cmap=cm)\n"
   ]
  },
  {
   "cell_type": "markdown",
   "metadata": {},
   "source": [
    "결실수치가 5%이상인 국가가 너무 많다. 대표적인 프랑스, 이탈리아, 포르투갈, 오스트리아으 평균치로 대체.\n",
    "그외 국가 결측치를 삭제 dropna()"
   ]
  },
  {
   "cell_type": "code",
   "execution_count": 18,
   "metadata": {},
   "outputs": [],
   "source": [
    "grouped=data['price'].groupby(data['country'])\n",
    "for name, group in grouped:\n",
    "    if name=='Italy':\n",
    "        mean=group.mean()\n",
    "data.loc[(data.price.isnull())&(data.country=='Italy'),['price']]=mean"
   ]
  },
  {
   "cell_type": "code",
   "execution_count": 19,
   "metadata": {},
   "outputs": [],
   "source": [
    "grouped=data['price'].groupby(data['country'])\n",
    "for name, group in grouped:\n",
    "    if name=='Portugal':\n",
    "        mean=group.mean()\n",
    "data.loc[(data.price.isnull())&(data.country=='Portugal'),['price']]=mean"
   ]
  },
  {
   "cell_type": "code",
   "execution_count": 20,
   "metadata": {},
   "outputs": [],
   "source": [
    "grouped=data['price'].groupby(data['country'])\n",
    "for name, group in grouped:\n",
    "    if name=='Austria':\n",
    "        mean=group.mean()\n",
    "data.loc[(data.price.isnull())&(data.country=='Austria'),['price']]=mean"
   ]
  },
  {
   "cell_type": "code",
   "execution_count": 21,
   "metadata": {},
   "outputs": [],
   "source": [
    "grouped=data['price'].groupby(data['country'])\n",
    "for name, group in grouped:\n",
    "    if name=='France':\n",
    "        mean=group.mean()\n",
    "data.loc[(data.price.isnull())&(data.country=='France'),['price']]=mean"
   ]
  },
  {
   "cell_type": "code",
   "execution_count": 22,
   "metadata": {},
   "outputs": [],
   "source": [
    "data3 = data.dropna(subset=['price'], axis =0)"
   ]
  },
  {
   "cell_type": "code",
   "execution_count": 23,
   "metadata": {},
   "outputs": [
    {
     "name": "stdout",
     "output_type": "stream",
     "text": [
      "<class 'pandas.core.frame.DataFrame'>\n",
      "Int64Index: 168561 entries, 0 to 279610\n",
      "Data columns (total 8 columns):\n",
      " #   Column       Non-Null Count   Dtype  \n",
      "---  ------       --------------   -----  \n",
      " 0   country      168561 non-null  object \n",
      " 1   description  168561 non-null  object \n",
      " 2   designation  118651 non-null  object \n",
      " 3   points       168561 non-null  int64  \n",
      " 4   price        168561 non-null  float64\n",
      " 5   province     168561 non-null  object \n",
      " 6   variety      168560 non-null  object \n",
      " 7   winery       168561 non-null  object \n",
      "dtypes: float64(1), int64(1), object(6)\n",
      "memory usage: 11.6+ MB\n"
     ]
    }
   ],
   "source": [
    "data3.info()"
   ]
  },
  {
   "cell_type": "code",
   "execution_count": 24,
   "metadata": {},
   "outputs": [],
   "source": [
    "data3.isnull().any()\n",
    "data3.reset_index(inplace=True)"
   ]
  },
  {
   "cell_type": "code",
   "execution_count": 25,
   "metadata": {},
   "outputs": [],
   "source": [
    "data3 =data3.drop('index', axis =1)"
   ]
  },
  {
   "cell_type": "code",
   "execution_count": 27,
   "metadata": {},
   "outputs": [
    {
     "data": {
      "text/html": [
       "<div>\n",
       "<style scoped>\n",
       "    .dataframe tbody tr th:only-of-type {\n",
       "        vertical-align: middle;\n",
       "    }\n",
       "\n",
       "    .dataframe tbody tr th {\n",
       "        vertical-align: top;\n",
       "    }\n",
       "\n",
       "    .dataframe thead th {\n",
       "        text-align: right;\n",
       "    }\n",
       "</style>\n",
       "<table border=\"1\" class=\"dataframe\">\n",
       "  <thead>\n",
       "    <tr style=\"text-align: right;\">\n",
       "      <th></th>\n",
       "      <th>country</th>\n",
       "      <th>description</th>\n",
       "      <th>designation</th>\n",
       "      <th>points</th>\n",
       "      <th>price</th>\n",
       "      <th>province</th>\n",
       "      <th>variety</th>\n",
       "      <th>winery</th>\n",
       "    </tr>\n",
       "  </thead>\n",
       "  <tbody>\n",
       "    <tr>\n",
       "      <th>81807</th>\n",
       "      <td>Chile</td>\n",
       "      <td>A chalky, dusty mouthfeel nicely balances this...</td>\n",
       "      <td>NaN</td>\n",
       "      <td>88</td>\n",
       "      <td>17.0</td>\n",
       "      <td>Maipo Valley</td>\n",
       "      <td>NaN</td>\n",
       "      <td>Carmen</td>\n",
       "    </tr>\n",
       "  </tbody>\n",
       "</table>\n",
       "</div>"
      ],
      "text/plain": [
       "      country                                        description designation  \\\n",
       "81807   Chile  A chalky, dusty mouthfeel nicely balances this...         NaN   \n",
       "\n",
       "       points  price      province variety  winery  \n",
       "81807      88   17.0  Maipo Valley     NaN  Carmen  "
      ]
     },
     "execution_count": 27,
     "metadata": {},
     "output_type": "execute_result"
    }
   ],
   "source": [
    "data3.isnull().any()\n",
    "data3[data3.variety.isnull()]"
   ]
  },
  {
   "cell_type": "code",
   "execution_count": 28,
   "metadata": {},
   "outputs": [],
   "source": [
    "data3.isnull().any()\n",
    "data3[data3.variety.isnull()]\n",
    "data3.drop(index=[81844],inplace=True)\n",
    "data3 = data3.reset_index()"
   ]
  },
  {
   "cell_type": "code",
   "execution_count": 29,
   "metadata": {},
   "outputs": [
    {
     "data": {
      "text/html": [
       "<div>\n",
       "<style scoped>\n",
       "    .dataframe tbody tr th:only-of-type {\n",
       "        vertical-align: middle;\n",
       "    }\n",
       "\n",
       "    .dataframe tbody tr th {\n",
       "        vertical-align: top;\n",
       "    }\n",
       "\n",
       "    .dataframe thead th {\n",
       "        text-align: right;\n",
       "    }\n",
       "</style>\n",
       "<table border=\"1\" class=\"dataframe\">\n",
       "  <thead>\n",
       "    <tr style=\"text-align: right;\">\n",
       "      <th></th>\n",
       "      <th>country</th>\n",
       "      <th>description</th>\n",
       "      <th>designation</th>\n",
       "      <th>points</th>\n",
       "      <th>price</th>\n",
       "      <th>province</th>\n",
       "      <th>variety</th>\n",
       "      <th>winery</th>\n",
       "    </tr>\n",
       "    <tr>\n",
       "      <th>index</th>\n",
       "      <th></th>\n",
       "      <th></th>\n",
       "      <th></th>\n",
       "      <th></th>\n",
       "      <th></th>\n",
       "      <th></th>\n",
       "      <th></th>\n",
       "      <th></th>\n",
       "    </tr>\n",
       "  </thead>\n",
       "  <tbody>\n",
       "    <tr>\n",
       "      <th>0</th>\n",
       "      <td>Italy</td>\n",
       "      <td>Aromas include tropical fruit, broom, brimston...</td>\n",
       "      <td>Vulkà Bianco</td>\n",
       "      <td>87</td>\n",
       "      <td>38.955368</td>\n",
       "      <td>Sicily &amp; Sardinia</td>\n",
       "      <td>White Blend</td>\n",
       "      <td>Nicosia</td>\n",
       "    </tr>\n",
       "    <tr>\n",
       "      <th>1</th>\n",
       "      <td>Portugal</td>\n",
       "      <td>This is ripe and fruity, a wine that is smooth...</td>\n",
       "      <td>Avidagos</td>\n",
       "      <td>87</td>\n",
       "      <td>15.000000</td>\n",
       "      <td>Douro</td>\n",
       "      <td>Portuguese Red</td>\n",
       "      <td>Quinta dos Avidagos</td>\n",
       "    </tr>\n",
       "    <tr>\n",
       "      <th>2</th>\n",
       "      <td>US</td>\n",
       "      <td>Tart and snappy, the flavors of lime flesh and...</td>\n",
       "      <td>NaN</td>\n",
       "      <td>87</td>\n",
       "      <td>14.000000</td>\n",
       "      <td>Oregon</td>\n",
       "      <td>Pinot Gris</td>\n",
       "      <td>Rainstorm</td>\n",
       "    </tr>\n",
       "    <tr>\n",
       "      <th>3</th>\n",
       "      <td>US</td>\n",
       "      <td>Pineapple rind, lemon pith and orange blossom ...</td>\n",
       "      <td>Reserve Late Harvest</td>\n",
       "      <td>87</td>\n",
       "      <td>13.000000</td>\n",
       "      <td>Michigan</td>\n",
       "      <td>Riesling</td>\n",
       "      <td>St. Julian</td>\n",
       "    </tr>\n",
       "    <tr>\n",
       "      <th>4</th>\n",
       "      <td>US</td>\n",
       "      <td>Much like the regular bottling from 2012, this...</td>\n",
       "      <td>Vintner's Reserve Wild Child Block</td>\n",
       "      <td>87</td>\n",
       "      <td>65.000000</td>\n",
       "      <td>Oregon</td>\n",
       "      <td>Pinot Noir</td>\n",
       "      <td>Sweet Cheeks</td>\n",
       "    </tr>\n",
       "    <tr>\n",
       "      <th>...</th>\n",
       "      <td>...</td>\n",
       "      <td>...</td>\n",
       "      <td>...</td>\n",
       "      <td>...</td>\n",
       "      <td>...</td>\n",
       "      <td>...</td>\n",
       "      <td>...</td>\n",
       "      <td>...</td>\n",
       "    </tr>\n",
       "    <tr>\n",
       "      <th>168556</th>\n",
       "      <td>US</td>\n",
       "      <td>A Syrah-Grenache blend that's dry and rustical...</td>\n",
       "      <td>Bungalow Red</td>\n",
       "      <td>84</td>\n",
       "      <td>15.000000</td>\n",
       "      <td>California</td>\n",
       "      <td>Syrah-Grenache</td>\n",
       "      <td>Casa Barranca</td>\n",
       "    </tr>\n",
       "    <tr>\n",
       "      <th>168557</th>\n",
       "      <td>Portugal</td>\n",
       "      <td>Oreo eaters will enjoy the aromas of this wine...</td>\n",
       "      <td>30-year old tawny</td>\n",
       "      <td>84</td>\n",
       "      <td>26.838006</td>\n",
       "      <td>Port</td>\n",
       "      <td>Port</td>\n",
       "      <td>Casa Santa Eufemia</td>\n",
       "    </tr>\n",
       "    <tr>\n",
       "      <th>168558</th>\n",
       "      <td>US</td>\n",
       "      <td>Outside of the vineyard, wines like this are w...</td>\n",
       "      <td>NaN</td>\n",
       "      <td>84</td>\n",
       "      <td>6.000000</td>\n",
       "      <td>California</td>\n",
       "      <td>Merlot</td>\n",
       "      <td>Delicato</td>\n",
       "    </tr>\n",
       "    <tr>\n",
       "      <th>168559</th>\n",
       "      <td>Argentina</td>\n",
       "      <td>Heavy and basic, with melon and pineapple arom...</td>\n",
       "      <td>NaN</td>\n",
       "      <td>84</td>\n",
       "      <td>9.000000</td>\n",
       "      <td>Mendoza Province</td>\n",
       "      <td>Sauvignon Blanc</td>\n",
       "      <td>Finca El Portillo</td>\n",
       "    </tr>\n",
       "    <tr>\n",
       "      <th>168560</th>\n",
       "      <td>Australia</td>\n",
       "      <td>Smooth in the mouth, this Chard starts off wit...</td>\n",
       "      <td>NaN</td>\n",
       "      <td>84</td>\n",
       "      <td>8.000000</td>\n",
       "      <td>Australia Other</td>\n",
       "      <td>Chardonnay</td>\n",
       "      <td>Jacob's Creek</td>\n",
       "    </tr>\n",
       "  </tbody>\n",
       "</table>\n",
       "<p>168560 rows × 8 columns</p>\n",
       "</div>"
      ],
      "text/plain": [
       "          country                                        description  \\\n",
       "index                                                                  \n",
       "0           Italy  Aromas include tropical fruit, broom, brimston...   \n",
       "1        Portugal  This is ripe and fruity, a wine that is smooth...   \n",
       "2              US  Tart and snappy, the flavors of lime flesh and...   \n",
       "3              US  Pineapple rind, lemon pith and orange blossom ...   \n",
       "4              US  Much like the regular bottling from 2012, this...   \n",
       "...           ...                                                ...   \n",
       "168556         US  A Syrah-Grenache blend that's dry and rustical...   \n",
       "168557   Portugal  Oreo eaters will enjoy the aromas of this wine...   \n",
       "168558         US  Outside of the vineyard, wines like this are w...   \n",
       "168559  Argentina  Heavy and basic, with melon and pineapple arom...   \n",
       "168560  Australia  Smooth in the mouth, this Chard starts off wit...   \n",
       "\n",
       "                               designation  points      price  \\\n",
       "index                                                           \n",
       "0                             Vulkà Bianco      87  38.955368   \n",
       "1                                 Avidagos      87  15.000000   \n",
       "2                                      NaN      87  14.000000   \n",
       "3                     Reserve Late Harvest      87  13.000000   \n",
       "4       Vintner's Reserve Wild Child Block      87  65.000000   \n",
       "...                                    ...     ...        ...   \n",
       "168556                        Bungalow Red      84  15.000000   \n",
       "168557                   30-year old tawny      84  26.838006   \n",
       "168558                                 NaN      84   6.000000   \n",
       "168559                                 NaN      84   9.000000   \n",
       "168560                                 NaN      84   8.000000   \n",
       "\n",
       "                 province          variety               winery  \n",
       "index                                                            \n",
       "0       Sicily & Sardinia      White Blend              Nicosia  \n",
       "1                   Douro   Portuguese Red  Quinta dos Avidagos  \n",
       "2                  Oregon       Pinot Gris            Rainstorm  \n",
       "3                Michigan         Riesling           St. Julian  \n",
       "4                  Oregon       Pinot Noir         Sweet Cheeks  \n",
       "...                   ...              ...                  ...  \n",
       "168556         California   Syrah-Grenache        Casa Barranca  \n",
       "168557               Port             Port   Casa Santa Eufemia  \n",
       "168558         California           Merlot             Delicato  \n",
       "168559   Mendoza Province  Sauvignon Blanc    Finca El Portillo  \n",
       "168560    Australia Other       Chardonnay        Jacob's Creek  \n",
       "\n",
       "[168560 rows x 8 columns]"
      ]
     },
     "execution_count": 29,
     "metadata": {},
     "output_type": "execute_result"
    }
   ],
   "source": [
    "data3.set_index('index')"
   ]
  },
  {
   "cell_type": "markdown",
   "metadata": {},
   "source": [
    "이상치를 처리 q1 일분위수 q2 삼분위수"
   ]
  },
  {
   "cell_type": "code",
   "execution_count": 30,
   "metadata": {},
   "outputs": [
    {
     "data": {
      "text/plain": [
       "<matplotlib.axes._subplots.AxesSubplot at 0x1d3fc0a2248>"
      ]
     },
     "execution_count": 30,
     "metadata": {},
     "output_type": "execute_result"
    },
    {
     "data": {
      "image/png": "[encoded data removed]",
      "text/plain": [
       "<Figure size 432x288 with 1 Axes>"
      ]
     },
     "metadata": {
      "needs_background": "light"
     },
     "output_type": "display_data"
    }
   ],
   "source": [
    "q1 = data3.points.quantile(q=0.25)\n",
    "q2 = data3.points.quantile(q=0.75)\n",
    "iqr = q2 - q1\n",
    "data3.points.plot(kind='hist',bins=30)"
   ]
  },
  {
   "cell_type": "code",
   "execution_count": 31,
   "metadata": {},
   "outputs": [
    {
     "name": "stdout",
     "output_type": "stream",
     "text": [
      "상한이상치:\n",
      " True\n",
      "하한이상치:\n",
      " False\n"
     ]
    }
   ],
   "source": [
    "q1 = data3.points.quantile(q=0.25)\n",
    "q2 = data3.points.quantile(q=0.75)\n",
    "iqr = q2 - q1\n",
    "print('상한이상치:\\n',any(data.points>q2+1.5*iqr))\n",
    "print('하한이상치:\\n',any(data.points<q1-1.5*iqr))"
   ]
  },
  {
   "cell_type": "code",
   "execution_count": 32,
   "metadata": {},
   "outputs": [
    {
     "name": "stdout",
     "output_type": "stream",
     "text": [
      "상한이상치:\n",
      " False\n",
      "상한이상치초과수치:\n",
      " Series([], Name: points, dtype: int64)\n",
      "Empty DataFrame\n",
      "Columns: [country, description, designation, points, price, province, variety, winery]\n",
      "Index: []\n",
      "하한이상치:\n",
      " False\n"
     ]
    }
   ],
   "source": [
    "q1 = data3.points.quantile(q=0.25)\n",
    "q2 = data3.points.quantile(q=0.75)\n",
    "iqr = q2 - q1\n",
    "print('상한이상치:\\n',any(data.points>q2+3*iqr))\n",
    "print('상한이상치초과수치:\\n',data[data.points>q2+3*iqr].points)\n",
    "print(data[data.points>100])\n",
    "print('하한이상치:\\n',any(data.points<q1-1.5*iqr))"
   ]
  },
  {
   "cell_type": "code",
   "execution_count": 33,
   "metadata": {},
   "outputs": [
    {
     "data": {
      "text/plain": [
       "<matplotlib.axes._subplots.AxesSubplot at 0x1d38c7a3708>"
      ]
     },
     "execution_count": 33,
     "metadata": {},
     "output_type": "execute_result"
    },
    {
     "data": {
      "image/png": "[encoded data removed]",
      "text/plain": [
       "<Figure size 432x288 with 1 Axes>"
      ]
     },
     "metadata": {
      "needs_background": "light"
     },
     "output_type": "display_data"
    }
   ],
   "source": [
    "q1 = data3.price.quantile(q=0.25)\n",
    "q2 = data3.price.quantile(q=0.75)\n",
    "iqr = q2 - q1\n",
    "data.price.plot(kind='hist', bins=30)"
   ]
  },
  {
   "cell_type": "code",
   "execution_count": 34,
   "metadata": {},
   "outputs": [
    {
     "name": "stdout",
     "output_type": "stream",
     "text": [
      "상한이상치:\n",
      " True\n",
      "하한이상치:\n",
      " True\n",
      "상한이상치초과수치:\n",
      " (4264,)\n",
      "하한이상치초과수치:\n",
      " (157070,)\n"
     ]
    }
   ],
   "source": [
    "q1 = data3.points.quantile(q=0.25)\n",
    "q2 = data3.points.quantile(q=0.75)\n",
    "iqr = q2 - q1\n",
    "print('상한이상치:\\n',any(data.price>q2+3*iqr))\n",
    "print('하한이상치:\\n',any(data.price<q1-3*iqr))\n",
    "print('상한이상치초과수치:\\n',data[data.price>q2+3*iqr].price.shape)\n",
    "print('하한이상치초과수치:\\n',data[data.price<q1-3*iqr].price.shape)\n",
    "#print(data[data.points>100])"
   ]
  },
  {
   "cell_type": "code",
   "execution_count": 35,
   "metadata": {},
   "outputs": [
    {
     "data": {
      "text/plain": [
       "4264    45.0\n",
       "Name: price, dtype: float64"
      ]
     },
     "execution_count": 35,
     "metadata": {},
     "output_type": "execute_result"
    }
   ],
   "source": [
    "data3.loc[data3['index'] == 4264,'price']"
   ]
  },
  {
   "cell_type": "code",
   "execution_count": 36,
   "metadata": {},
   "outputs": [],
   "source": [
    "data3 = data3.dropna(subset=['country','province'], axis =0)"
   ]
  },
  {
   "cell_type": "code",
   "execution_count": 37,
   "metadata": {},
   "outputs": [],
   "source": [
    "data3 = data3.dropna(subset=['variety','designation'], axis =0)"
   ]
  },
  {
   "cell_type": "code",
   "execution_count": 38,
   "metadata": {},
   "outputs": [],
   "source": [
    "data3.reset_index(inplace=True)"
   ]
  },
  {
   "cell_type": "code",
   "execution_count": 39,
   "metadata": {
    "scrolled": true
   },
   "outputs": [
    {
     "name": "stdout",
     "output_type": "stream",
     "text": [
      "<class 'pandas.core.frame.DataFrame'>\n",
      "RangeIndex: 118650 entries, 0 to 118649\n",
      "Data columns (total 10 columns):\n",
      " #   Column       Non-Null Count   Dtype  \n",
      "---  ------       --------------   -----  \n",
      " 0   level_0      118650 non-null  int64  \n",
      " 1   index        118650 non-null  int64  \n",
      " 2   country      118650 non-null  object \n",
      " 3   description  118650 non-null  object \n",
      " 4   designation  118650 non-null  object \n",
      " 5   points       118650 non-null  int64  \n",
      " 6   price        118650 non-null  float64\n",
      " 7   province     118650 non-null  object \n",
      " 8   variety      118650 non-null  object \n",
      " 9   winery       118650 non-null  object \n",
      "dtypes: float64(1), int64(3), object(6)\n",
      "memory usage: 9.1+ MB\n"
     ]
    }
   ],
   "source": [
    "data3.info()"
   ]
  },
  {
   "cell_type": "markdown",
   "metadata": {},
   "source": [
    "먼저 \"scikit learn\"-> 함수,class 모음에서 \"LinearRegresssion\"모듈을 가져 오겠습니다."
   ]
  },
  {
   "cell_type": "code",
   "execution_count": 40,
   "metadata": {},
   "outputs": [],
   "source": [
    "from sklearn.linear_model import LinearRegression"
   ]
  },
  {
   "cell_type": "code",
   "execution_count": 41,
   "metadata": {},
   "outputs": [],
   "source": [
    "y_pred = []\n",
    "y_true = []"
   ]
  },
  {
   "cell_type": "code",
   "execution_count": 42,
   "metadata": {},
   "outputs": [
    {
     "name": "stderr",
     "output_type": "stream",
     "text": [
      "C:\\Users\\BIT\\anaconda3\\lib\\site-packages\\sklearn\\model_selection\\_split.py:296: FutureWarning:\n",
      "\n",
      "Setting a random_state has no effect since shuffle is False. This will raise an error in 0.24. You should leave random_state to its default (None), or set shuffle=True.\n",
      "\n"
     ]
    }
   ],
   "source": [
    "from sklearn.model_selection import KFold\n",
    "kf = KFold(n_splits=10, random_state = 42)\n",
    "\n",
    "for train_index, test_index in kf.split(data3.price):\n",
    "    df_test = data3.price.iloc[test_index]\n",
    "    df_train = data3.price.iloc[train_index]"
   ]
  },
  {
   "cell_type": "code",
   "execution_count": 43,
   "metadata": {
    "scrolled": true
   },
   "outputs": [
    {
     "data": {
      "image/png": "[encoded data removed]",
      "text/plain": [
       "<Figure size 864x864 with 3 Axes>"
      ]
     },
     "metadata": {
      "needs_background": "light"
     },
     "output_type": "display_data"
    }
   ],
   "source": [
    "import matplotlib.pyplot as plt\n",
    "#Creating a frame of rows and columns to place the plots\n",
    "fig, axi = plt.subplots(3,1, figsize = (12,12))\n",
    "#plot1\n",
    "data3['points'].value_counts().plot.bar(\n",
    "    ax = axi[0],\n",
    "    fontsize = 14,\n",
    ")\n",
    "axi[0].set_title(\"Count points of Wine\", fontsize = 20)\n",
    "#Plot2\n",
    "data3['country'].value_counts().head(10).plot.bar(\n",
    "    ax = axi[1],\n",
    "    fontsize = 14,\n",
    ")\n",
    "axi[1].set_title('Country', fontsize = 20)\n",
    "#plot3\n",
    "data3['winery'].value_counts().head().plot.bar(\n",
    "    ax = axi[2],\n",
    "    fontsize = 14,\n",
    ")\n",
    "axi[2].set_title(\"No of Wines from Winery\", fontsize = 20)\n",
    "fig.tight_layout()"
   ]
  },
  {
   "cell_type": "code",
   "execution_count": 44,
   "metadata": {},
   "outputs": [
    {
     "data": {
      "text/plain": [
       "<matplotlib.axes._subplots.AxesSubplot at 0x1d38e847dc8>"
      ]
     },
     "execution_count": 44,
     "metadata": {},
     "output_type": "execute_result"
    },
    {
     "data": {
      "image/png": "[encoded data removed]",
      "text/plain": [
       "<Figure size 432x288 with 1 Axes>"
      ]
     },
     "metadata": {
      "needs_background": "light"
     },
     "output_type": "display_data"
    }
   ],
   "source": [
    "data3['price'].value_counts().sort_index().plot.line()"
   ]
  },
  {
   "cell_type": "code",
   "execution_count": 45,
   "metadata": {},
   "outputs": [
    {
     "data": {
      "text/plain": [
       "level_0        118650\n",
       "index          118650\n",
       "country        118650\n",
       "description    118650\n",
       "designation    118650\n",
       "points         118650\n",
       "price          118650\n",
       "province       118650\n",
       "variety        118650\n",
       "winery         118650\n",
       "dtype: int64"
      ]
     },
     "execution_count": 45,
     "metadata": {},
     "output_type": "execute_result"
    }
   ],
   "source": [
    "data3.isnull().count()"
   ]
  },
  {
   "cell_type": "code",
   "execution_count": 46,
   "metadata": {},
   "outputs": [],
   "source": [
    "import seaborn as sns"
   ]
  },
  {
   "cell_type": "code",
   "execution_count": 47,
   "metadata": {},
   "outputs": [
    {
     "data": {
      "text/plain": [
       "(array([ 0,  1,  2,  3,  4,  5,  6,  7,  8,  9, 10, 11, 12, 13, 14, 15, 16,\n",
       "        17, 18, 19, 20, 21, 22, 23, 24, 25, 26, 27, 28, 29, 30, 31, 32, 33,\n",
       "        34, 35, 36, 37, 38, 39, 40, 41, 42, 43]),\n",
       " <a list of 44 Text xticklabel objects>)"
      ]
     },
     "execution_count": 47,
     "metadata": {},
     "output_type": "execute_result"
    },
    {
     "data": {
      "image/png": "[encoded data removed]",
      "text/plain": [
       "<Figure size 432x288 with 1 Axes>"
      ]
     },
     "metadata": {
      "needs_background": "light"
     },
     "output_type": "display_data"
    }
   ],
   "source": [
    "sns.countplot(data3['country'])\n",
    "plt.xticks(rotation = - 45 )"
   ]
  },
  {
   "cell_type": "code",
   "execution_count": 48,
   "metadata": {},
   "outputs": [
    {
     "data": {
      "text/plain": [
       "(array([ 0,  1,  2,  3,  4,  5,  6,  7,  8,  9, 10, 11]),\n",
       " <a list of 12 Text xticklabel objects>)"
      ]
     },
     "execution_count": 48,
     "metadata": {},
     "output_type": "execute_result"
    },
    {
     "data": {
      "image/png": "[encoded data removed]",
      "text/plain": [
       "<Figure size 432x288 with 1 Axes>"
      ]
     },
     "metadata": {
      "needs_background": "light"
     },
     "output_type": "display_data"
    }
   ],
   "source": [
    "sns.countplot(data3['province'].head(20))\n",
    "plt.xticks(rotation = - 45 )"
   ]
  },
  {
   "cell_type": "code",
   "execution_count": 49,
   "metadata": {},
   "outputs": [
    {
     "data": {
      "text/plain": [
       "<matplotlib.axes._subplots.AxesSubplot at 0x1d38f801848>"
      ]
     },
     "execution_count": 49,
     "metadata": {},
     "output_type": "execute_result"
    },
    {
     "data": {
      "image/png": "[encoded data removed]",
      "text/plain": [
       "<Figure size 432x288 with 1 Axes>"
      ]
     },
     "metadata": {
      "needs_background": "light"
     },
     "output_type": "display_data"
    }
   ],
   "source": [
    "sns.kdeplot(data3['price'])"
   ]
  },
  {
   "cell_type": "code",
   "execution_count": 50,
   "metadata": {},
   "outputs": [
    {
     "data": {
      "text/plain": [
       "Text(0.5, 1.0, 'Price of Wine')"
      ]
     },
     "execution_count": 50,
     "metadata": {},
     "output_type": "execute_result"
    },
    {
     "data": {
      "image/png": "[encoded data removed]",
      "text/plain": [
       "<Figure size 432x288 with 1 Axes>"
      ]
     },
     "metadata": {
      "needs_background": "light"
     },
     "output_type": "display_data"
    }
   ],
   "source": [
    "ax = sns.kdeplot(data3.query('price<200').price)\n",
    "ax.set_title(\"Price of Wine\")"
   ]
  },
  {
   "cell_type": "code",
   "execution_count": 51,
   "metadata": {},
   "outputs": [
    {
     "data": {
      "text/plain": [
       "<matplotlib.axes._subplots.AxesSubplot at 0x1d390509608>"
      ]
     },
     "execution_count": 51,
     "metadata": {},
     "output_type": "execute_result"
    },
    {
     "data": {
      "image/png": "[encoded data removed]",
      "text/plain": [
       "<Figure size 720x720 with 3 Axes>"
      ]
     },
     "metadata": {
      "needs_background": "light"
     },
     "output_type": "display_data"
    }
   ],
   "source": [
    "msno.bar(data,color = sns.color_palette('viridis'),fontsize = 13,figsize = (10,10))"
   ]
  },
  {
   "cell_type": "code",
   "execution_count": 52,
   "metadata": {},
   "outputs": [
    {
     "data": {
      "text/html": [
       "<div>\n",
       "<style scoped>\n",
       "    .dataframe tbody tr th:only-of-type {\n",
       "        vertical-align: middle;\n",
       "    }\n",
       "\n",
       "    .dataframe tbody tr th {\n",
       "        vertical-align: top;\n",
       "    }\n",
       "\n",
       "    .dataframe thead th {\n",
       "        text-align: right;\n",
       "    }\n",
       "</style>\n",
       "<table border=\"1\" class=\"dataframe\">\n",
       "  <thead>\n",
       "    <tr style=\"text-align: right;\">\n",
       "      <th>variety</th>\n",
       "      <th>Abouriou</th>\n",
       "      <th>Agiorgitiko</th>\n",
       "      <th>Aglianico</th>\n",
       "      <th>Aidani</th>\n",
       "      <th>Airen</th>\n",
       "      <th>Albana</th>\n",
       "      <th>Albanello</th>\n",
       "      <th>Albariño</th>\n",
       "      <th>Albarossa</th>\n",
       "      <th>Albarín</th>\n",
       "      <th>...</th>\n",
       "      <th>Xarel-lo</th>\n",
       "      <th>Xinisteri</th>\n",
       "      <th>Xinomavro</th>\n",
       "      <th>Zibibbo</th>\n",
       "      <th>Zierfandler</th>\n",
       "      <th>Zierfandler-Rotgipfler</th>\n",
       "      <th>Zinfandel</th>\n",
       "      <th>Zlahtina</th>\n",
       "      <th>Zweigelt</th>\n",
       "      <th>Çalkarası</th>\n",
       "    </tr>\n",
       "    <tr>\n",
       "      <th>winery</th>\n",
       "      <th></th>\n",
       "      <th></th>\n",
       "      <th></th>\n",
       "      <th></th>\n",
       "      <th></th>\n",
       "      <th></th>\n",
       "      <th></th>\n",
       "      <th></th>\n",
       "      <th></th>\n",
       "      <th></th>\n",
       "      <th></th>\n",
       "      <th></th>\n",
       "      <th></th>\n",
       "      <th></th>\n",
       "      <th></th>\n",
       "      <th></th>\n",
       "      <th></th>\n",
       "      <th></th>\n",
       "      <th></th>\n",
       "      <th></th>\n",
       "      <th></th>\n",
       "    </tr>\n",
       "  </thead>\n",
       "  <tbody>\n",
       "    <tr>\n",
       "      <th>1+1=3</th>\n",
       "      <td>NaN</td>\n",
       "      <td>NaN</td>\n",
       "      <td>NaN</td>\n",
       "      <td>NaN</td>\n",
       "      <td>NaN</td>\n",
       "      <td>NaN</td>\n",
       "      <td>NaN</td>\n",
       "      <td>NaN</td>\n",
       "      <td>NaN</td>\n",
       "      <td>NaN</td>\n",
       "      <td>...</td>\n",
       "      <td>NaN</td>\n",
       "      <td>NaN</td>\n",
       "      <td>NaN</td>\n",
       "      <td>NaN</td>\n",
       "      <td>NaN</td>\n",
       "      <td>NaN</td>\n",
       "      <td>NaN</td>\n",
       "      <td>NaN</td>\n",
       "      <td>NaN</td>\n",
       "      <td>NaN</td>\n",
       "    </tr>\n",
       "    <tr>\n",
       "      <th>10 Knots</th>\n",
       "      <td>NaN</td>\n",
       "      <td>NaN</td>\n",
       "      <td>NaN</td>\n",
       "      <td>NaN</td>\n",
       "      <td>NaN</td>\n",
       "      <td>NaN</td>\n",
       "      <td>NaN</td>\n",
       "      <td>NaN</td>\n",
       "      <td>NaN</td>\n",
       "      <td>NaN</td>\n",
       "      <td>...</td>\n",
       "      <td>NaN</td>\n",
       "      <td>NaN</td>\n",
       "      <td>NaN</td>\n",
       "      <td>NaN</td>\n",
       "      <td>NaN</td>\n",
       "      <td>NaN</td>\n",
       "      <td>NaN</td>\n",
       "      <td>NaN</td>\n",
       "      <td>NaN</td>\n",
       "      <td>NaN</td>\n",
       "    </tr>\n",
       "    <tr>\n",
       "      <th>100 Percent Wine</th>\n",
       "      <td>NaN</td>\n",
       "      <td>NaN</td>\n",
       "      <td>NaN</td>\n",
       "      <td>NaN</td>\n",
       "      <td>NaN</td>\n",
       "      <td>NaN</td>\n",
       "      <td>NaN</td>\n",
       "      <td>NaN</td>\n",
       "      <td>NaN</td>\n",
       "      <td>NaN</td>\n",
       "      <td>...</td>\n",
       "      <td>NaN</td>\n",
       "      <td>NaN</td>\n",
       "      <td>NaN</td>\n",
       "      <td>NaN</td>\n",
       "      <td>NaN</td>\n",
       "      <td>NaN</td>\n",
       "      <td>NaN</td>\n",
       "      <td>NaN</td>\n",
       "      <td>NaN</td>\n",
       "      <td>NaN</td>\n",
       "    </tr>\n",
       "    <tr>\n",
       "      <th>1000 Stories</th>\n",
       "      <td>NaN</td>\n",
       "      <td>NaN</td>\n",
       "      <td>NaN</td>\n",
       "      <td>NaN</td>\n",
       "      <td>NaN</td>\n",
       "      <td>NaN</td>\n",
       "      <td>NaN</td>\n",
       "      <td>NaN</td>\n",
       "      <td>NaN</td>\n",
       "      <td>NaN</td>\n",
       "      <td>...</td>\n",
       "      <td>NaN</td>\n",
       "      <td>NaN</td>\n",
       "      <td>NaN</td>\n",
       "      <td>NaN</td>\n",
       "      <td>NaN</td>\n",
       "      <td>NaN</td>\n",
       "      <td>90.5</td>\n",
       "      <td>NaN</td>\n",
       "      <td>NaN</td>\n",
       "      <td>NaN</td>\n",
       "    </tr>\n",
       "    <tr>\n",
       "      <th>12 Linajes</th>\n",
       "      <td>NaN</td>\n",
       "      <td>NaN</td>\n",
       "      <td>NaN</td>\n",
       "      <td>NaN</td>\n",
       "      <td>NaN</td>\n",
       "      <td>NaN</td>\n",
       "      <td>NaN</td>\n",
       "      <td>NaN</td>\n",
       "      <td>NaN</td>\n",
       "      <td>NaN</td>\n",
       "      <td>...</td>\n",
       "      <td>NaN</td>\n",
       "      <td>NaN</td>\n",
       "      <td>NaN</td>\n",
       "      <td>NaN</td>\n",
       "      <td>NaN</td>\n",
       "      <td>NaN</td>\n",
       "      <td>NaN</td>\n",
       "      <td>NaN</td>\n",
       "      <td>NaN</td>\n",
       "      <td>NaN</td>\n",
       "    </tr>\n",
       "    <tr>\n",
       "      <th>...</th>\n",
       "      <td>...</td>\n",
       "      <td>...</td>\n",
       "      <td>...</td>\n",
       "      <td>...</td>\n",
       "      <td>...</td>\n",
       "      <td>...</td>\n",
       "      <td>...</td>\n",
       "      <td>...</td>\n",
       "      <td>...</td>\n",
       "      <td>...</td>\n",
       "      <td>...</td>\n",
       "      <td>...</td>\n",
       "      <td>...</td>\n",
       "      <td>...</td>\n",
       "      <td>...</td>\n",
       "      <td>...</td>\n",
       "      <td>...</td>\n",
       "      <td>...</td>\n",
       "      <td>...</td>\n",
       "      <td>...</td>\n",
       "      <td>...</td>\n",
       "    </tr>\n",
       "    <tr>\n",
       "      <th>Ökonomierat Rebholz</th>\n",
       "      <td>NaN</td>\n",
       "      <td>NaN</td>\n",
       "      <td>NaN</td>\n",
       "      <td>NaN</td>\n",
       "      <td>NaN</td>\n",
       "      <td>NaN</td>\n",
       "      <td>NaN</td>\n",
       "      <td>NaN</td>\n",
       "      <td>NaN</td>\n",
       "      <td>NaN</td>\n",
       "      <td>...</td>\n",
       "      <td>NaN</td>\n",
       "      <td>NaN</td>\n",
       "      <td>NaN</td>\n",
       "      <td>NaN</td>\n",
       "      <td>NaN</td>\n",
       "      <td>NaN</td>\n",
       "      <td>NaN</td>\n",
       "      <td>NaN</td>\n",
       "      <td>NaN</td>\n",
       "      <td>NaN</td>\n",
       "    </tr>\n",
       "    <tr>\n",
       "      <th>Único Luis Miguel</th>\n",
       "      <td>NaN</td>\n",
       "      <td>NaN</td>\n",
       "      <td>NaN</td>\n",
       "      <td>NaN</td>\n",
       "      <td>NaN</td>\n",
       "      <td>NaN</td>\n",
       "      <td>NaN</td>\n",
       "      <td>NaN</td>\n",
       "      <td>NaN</td>\n",
       "      <td>NaN</td>\n",
       "      <td>...</td>\n",
       "      <td>NaN</td>\n",
       "      <td>NaN</td>\n",
       "      <td>NaN</td>\n",
       "      <td>NaN</td>\n",
       "      <td>NaN</td>\n",
       "      <td>NaN</td>\n",
       "      <td>NaN</td>\n",
       "      <td>NaN</td>\n",
       "      <td>NaN</td>\n",
       "      <td>NaN</td>\n",
       "    </tr>\n",
       "    <tr>\n",
       "      <th>àMaurice</th>\n",
       "      <td>NaN</td>\n",
       "      <td>NaN</td>\n",
       "      <td>NaN</td>\n",
       "      <td>NaN</td>\n",
       "      <td>NaN</td>\n",
       "      <td>NaN</td>\n",
       "      <td>NaN</td>\n",
       "      <td>NaN</td>\n",
       "      <td>NaN</td>\n",
       "      <td>NaN</td>\n",
       "      <td>...</td>\n",
       "      <td>NaN</td>\n",
       "      <td>NaN</td>\n",
       "      <td>NaN</td>\n",
       "      <td>NaN</td>\n",
       "      <td>NaN</td>\n",
       "      <td>NaN</td>\n",
       "      <td>NaN</td>\n",
       "      <td>NaN</td>\n",
       "      <td>NaN</td>\n",
       "      <td>NaN</td>\n",
       "    </tr>\n",
       "    <tr>\n",
       "      <th>áster</th>\n",
       "      <td>NaN</td>\n",
       "      <td>NaN</td>\n",
       "      <td>NaN</td>\n",
       "      <td>NaN</td>\n",
       "      <td>NaN</td>\n",
       "      <td>NaN</td>\n",
       "      <td>NaN</td>\n",
       "      <td>NaN</td>\n",
       "      <td>NaN</td>\n",
       "      <td>NaN</td>\n",
       "      <td>...</td>\n",
       "      <td>NaN</td>\n",
       "      <td>NaN</td>\n",
       "      <td>NaN</td>\n",
       "      <td>NaN</td>\n",
       "      <td>NaN</td>\n",
       "      <td>NaN</td>\n",
       "      <td>NaN</td>\n",
       "      <td>NaN</td>\n",
       "      <td>NaN</td>\n",
       "      <td>NaN</td>\n",
       "    </tr>\n",
       "    <tr>\n",
       "      <th>Štoka</th>\n",
       "      <td>NaN</td>\n",
       "      <td>NaN</td>\n",
       "      <td>NaN</td>\n",
       "      <td>NaN</td>\n",
       "      <td>NaN</td>\n",
       "      <td>NaN</td>\n",
       "      <td>NaN</td>\n",
       "      <td>NaN</td>\n",
       "      <td>NaN</td>\n",
       "      <td>NaN</td>\n",
       "      <td>...</td>\n",
       "      <td>NaN</td>\n",
       "      <td>NaN</td>\n",
       "      <td>NaN</td>\n",
       "      <td>NaN</td>\n",
       "      <td>NaN</td>\n",
       "      <td>NaN</td>\n",
       "      <td>NaN</td>\n",
       "      <td>NaN</td>\n",
       "      <td>NaN</td>\n",
       "      <td>NaN</td>\n",
       "    </tr>\n",
       "  </tbody>\n",
       "</table>\n",
       "<p>14357 rows × 678 columns</p>\n",
       "</div>"
      ],
      "text/plain": [
       "variety              Abouriou  Agiorgitiko  Aglianico  Aidani  Airen  Albana  \\\n",
       "winery                                                                         \n",
       "1+1=3                     NaN          NaN        NaN     NaN    NaN     NaN   \n",
       "10 Knots                  NaN          NaN        NaN     NaN    NaN     NaN   \n",
       "100 Percent Wine          NaN          NaN        NaN     NaN    NaN     NaN   \n",
       "1000 Stories              NaN          NaN        NaN     NaN    NaN     NaN   \n",
       "12 Linajes                NaN          NaN        NaN     NaN    NaN     NaN   \n",
       "...                       ...          ...        ...     ...    ...     ...   \n",
       "Ökonomierat Rebholz       NaN          NaN        NaN     NaN    NaN     NaN   \n",
       "Único Luis Miguel         NaN          NaN        NaN     NaN    NaN     NaN   \n",
       "àMaurice                  NaN          NaN        NaN     NaN    NaN     NaN   \n",
       "áster                     NaN          NaN        NaN     NaN    NaN     NaN   \n",
       "Štoka                     NaN          NaN        NaN     NaN    NaN     NaN   \n",
       "\n",
       "variety              Albanello  Albariño  Albarossa  Albarín  ...  Xarel-lo  \\\n",
       "winery                                                        ...             \n",
       "1+1=3                      NaN       NaN        NaN      NaN  ...       NaN   \n",
       "10 Knots                   NaN       NaN        NaN      NaN  ...       NaN   \n",
       "100 Percent Wine           NaN       NaN        NaN      NaN  ...       NaN   \n",
       "1000 Stories               NaN       NaN        NaN      NaN  ...       NaN   \n",
       "12 Linajes                 NaN       NaN        NaN      NaN  ...       NaN   \n",
       "...                        ...       ...        ...      ...  ...       ...   \n",
       "Ökonomierat Rebholz        NaN       NaN        NaN      NaN  ...       NaN   \n",
       "Único Luis Miguel          NaN       NaN        NaN      NaN  ...       NaN   \n",
       "àMaurice                   NaN       NaN        NaN      NaN  ...       NaN   \n",
       "áster                      NaN       NaN        NaN      NaN  ...       NaN   \n",
       "Štoka                      NaN       NaN        NaN      NaN  ...       NaN   \n",
       "\n",
       "variety              Xinisteri  Xinomavro  Zibibbo  Zierfandler  \\\n",
       "winery                                                            \n",
       "1+1=3                      NaN        NaN      NaN          NaN   \n",
       "10 Knots                   NaN        NaN      NaN          NaN   \n",
       "100 Percent Wine           NaN        NaN      NaN          NaN   \n",
       "1000 Stories               NaN        NaN      NaN          NaN   \n",
       "12 Linajes                 NaN        NaN      NaN          NaN   \n",
       "...                        ...        ...      ...          ...   \n",
       "Ökonomierat Rebholz        NaN        NaN      NaN          NaN   \n",
       "Único Luis Miguel          NaN        NaN      NaN          NaN   \n",
       "àMaurice                   NaN        NaN      NaN          NaN   \n",
       "áster                      NaN        NaN      NaN          NaN   \n",
       "Štoka                      NaN        NaN      NaN          NaN   \n",
       "\n",
       "variety              Zierfandler-Rotgipfler  Zinfandel  Zlahtina  Zweigelt  \\\n",
       "winery                                                                       \n",
       "1+1=3                                   NaN        NaN       NaN       NaN   \n",
       "10 Knots                                NaN        NaN       NaN       NaN   \n",
       "100 Percent Wine                        NaN        NaN       NaN       NaN   \n",
       "1000 Stories                            NaN       90.5       NaN       NaN   \n",
       "12 Linajes                              NaN        NaN       NaN       NaN   \n",
       "...                                     ...        ...       ...       ...   \n",
       "Ökonomierat Rebholz                     NaN        NaN       NaN       NaN   \n",
       "Único Luis Miguel                       NaN        NaN       NaN       NaN   \n",
       "àMaurice                                NaN        NaN       NaN       NaN   \n",
       "áster                                   NaN        NaN       NaN       NaN   \n",
       "Štoka                                   NaN        NaN       NaN       NaN   \n",
       "\n",
       "variety              Çalkarası  \n",
       "winery                          \n",
       "1+1=3                      NaN  \n",
       "10 Knots                   NaN  \n",
       "100 Percent Wine           NaN  \n",
       "1000 Stories               NaN  \n",
       "12 Linajes                 NaN  \n",
       "...                        ...  \n",
       "Ökonomierat Rebholz        NaN  \n",
       "Único Luis Miguel          NaN  \n",
       "àMaurice                   NaN  \n",
       "áster                      NaN  \n",
       "Štoka                      NaN  \n",
       "\n",
       "[14357 rows x 678 columns]"
      ]
     },
     "execution_count": 52,
     "metadata": {},
     "output_type": "execute_result"
    }
   ],
   "source": [
    "data3.pivot_table('points',index = 'winery', columns = 'variety', aggfunc = 'mean')"
   ]
  },
  {
   "cell_type": "code",
   "execution_count": 53,
   "metadata": {
    "scrolled": true
   },
   "outputs": [],
   "source": [
    "data4 = data3.loc[:,['description','points','price','variety','winery']]"
   ]
  },
  {
   "cell_type": "markdown",
   "metadata": {},
   "source": [
    " country-> 널값만 찾아서 제거,designation -> 열 확인 삭제 ,province -> 행만 삭제"
   ]
  },
  {
   "cell_type": "code",
   "execution_count": 54,
   "metadata": {},
   "outputs": [],
   "source": [
    "data5 = data3.dropna(subset=['country'], axis =0)"
   ]
  },
  {
   "cell_type": "code",
   "execution_count": 55,
   "metadata": {},
   "outputs": [],
   "source": [
    "data5 = data5.dropna(subset=['variety'], axis =0)"
   ]
  },
  {
   "cell_type": "code",
   "execution_count": 56,
   "metadata": {},
   "outputs": [],
   "source": [
    "data5 = data5.drop('designation', axis = 1)"
   ]
  },
  {
   "cell_type": "code",
   "execution_count": 57,
   "metadata": {},
   "outputs": [
    {
     "name": "stdout",
     "output_type": "stream",
     "text": [
      "<class 'pandas.core.frame.DataFrame'>\n",
      "Int64Index: 118650 entries, 0 to 118649\n",
      "Data columns (total 9 columns):\n",
      " #   Column       Non-Null Count   Dtype  \n",
      "---  ------       --------------   -----  \n",
      " 0   level_0      118650 non-null  int64  \n",
      " 1   index        118650 non-null  int64  \n",
      " 2   country      118650 non-null  object \n",
      " 3   description  118650 non-null  object \n",
      " 4   points       118650 non-null  int64  \n",
      " 5   price        118650 non-null  float64\n",
      " 6   province     118650 non-null  object \n",
      " 7   variety      118650 non-null  object \n",
      " 8   winery       118650 non-null  object \n",
      "dtypes: float64(1), int64(3), object(5)\n",
      "memory usage: 9.1+ MB\n"
     ]
    }
   ],
   "source": [
    "data5.info()"
   ]
  },
  {
   "cell_type": "markdown",
   "metadata": {},
   "source": [
    "<h2>designation: 구매처+원산지+포도주+type</h2><br>\n",
    "<h2>winery: The winery that made the wine -> 양조장</h2><br>\n",
    "<h2>variety: The type of grapes used to make the wine (ie Pinot Noir) -> 포도 종류</h2><br>\n",
    "<h2>province : The province or state that the wine is from 주 또는 주(州)에서 와인이 유래</h2><br>\n",
    "<h2>region1 : 찾는중</h2><br>\n",
    "<h2>region2 : resion1의 함수적 종속</h2><br>"
   ]
  },
  {
   "cell_type": "markdown",
   "metadata": {},
   "source": [
    "<h2> points and variety 현황</h2>\n",
    "1. 포인트를 잘받는 와인 원재료(포도 종류) 상위 10개<br>\n",
    "2. 보편적으로 쓰이는 포토 종류 상위 10개"
   ]
  },
  {
   "cell_type": "code",
   "execution_count": null,
   "metadata": {},
   "outputs": [],
   "source": [
    "sns.scatterplot(data=data5, x=\"points\", y=\"price\", hue=\"variety\")"
   ]
  },
  {
   "cell_type": "code",
   "execution_count": 110,
   "metadata": {
    "scrolled": true
   },
   "outputs": [
    {
     "data": {
      "text/plain": [
       "Text(0, 0.5, 'points')"
      ]
     },
     "execution_count": 110,
     "metadata": {},
     "output_type": "execute_result"
    },
    {
     "data": {
      "image/png": "[encoded data removed]",
      "text/plain": [
       "<Figure size 1296x504 with 1 Axes>"
      ]
     },
     "metadata": {
      "needs_background": "light"
     },
     "output_type": "display_data"
    }
   ],
   "source": [
    "temp = data5.groupby('variety')['points'].mean().nlargest(15)\n",
    "x1 = temp.index.values\n",
    "y1 = temp.values\n",
    "plt.rc('font', size = 16)\n",
    "plt.figure(figsize = (18,7))\n",
    "plt.plot(x1,y1, label='variety')\n",
    "plt.xticks(rotation = - 45 )\n",
    "plt.xlabel('variety')\n",
    "plt.ylabel('points')"
   ]
  },
  {
   "cell_type": "code",
   "execution_count": 60,
   "metadata": {},
   "outputs": [
    {
     "data": {
      "text/plain": [
       "([0, 1, 2, 3, 4, 5, 6, 7, 8, 9], <a list of 10 Text xticklabel objects>)"
      ]
     },
     "execution_count": 60,
     "metadata": {},
     "output_type": "execute_result"
    },
    {
     "data": {
      "image/png": "[encoded data removed]",
      "text/plain": [
       "<Figure size 1296x720 with 1 Axes>"
      ]
     },
     "metadata": {
      "needs_background": "light"
     },
     "output_type": "display_data"
    }
   ],
   "source": [
    "bb = data5.groupby('variety')['description' ].count().nlargest(10)\n",
    "x1 = bb.index.values\n",
    "y1 = bb.values\n",
    "plt.rc('font', size = 16)\n",
    "plt.figure(figsize = (18,10))\n",
    "plt.plot(x1,y1, label='variety')\n",
    "plt.xticks(rotation = - 45 )"
   ]
  },
  {
   "cell_type": "markdown",
   "metadata": {},
   "source": [
    "총748개의 포토 종류"
   ]
  },
  {
   "cell_type": "markdown",
   "metadata": {},
   "source": [
    "<h2>주에 따른 포인트 현황과 가격 현황</h2>"
   ]
  },
  {
   "cell_type": "code",
   "execution_count": 108,
   "metadata": {},
   "outputs": [
    {
     "data": {
      "text/plain": [
       "Text(0, 0.5, 'points')"
      ]
     },
     "execution_count": 108,
     "metadata": {},
     "output_type": "execute_result"
    },
    {
     "data": {
      "image/png": "[encoded data removed]",
      "text/plain": [
       "<Figure size 1512x720 with 1 Axes>"
      ]
     },
     "metadata": {
      "needs_background": "light"
     },
     "output_type": "display_data"
    }
   ],
   "source": [
    "temp1 = data5.groupby('province')['points'].mean().nlargest(15)\n",
    "x1 = temp1.index.values\n",
    "y1 = temp1.values\n",
    "plt.figure(figsize = (21,10))\n",
    "plt.rc('font', size = 16)\n",
    "plt.xticks(rotation = - 45 )\n",
    "plt.plot(x1,y1, marker=r'$\\clubsuit$', color = 'green')\n",
    "plt.xlabel('province')\n",
    "plt.ylabel('points')"
   ]
  },
  {
   "cell_type": "code",
   "execution_count": 62,
   "metadata": {},
   "outputs": [
    {
     "data": {
      "text/plain": [
       "<matplotlib.collections.PathCollection at 0x1d38ca45848>"
      ]
     },
     "execution_count": 62,
     "metadata": {},
     "output_type": "execute_result"
    },
    {
     "data": {
      "image/png": "[encoded data removed]",
      "text/plain": [
       "<Figure size 1512x720 with 1 Axes>"
      ]
     },
     "metadata": {
      "needs_background": "light"
     },
     "output_type": "display_data"
    }
   ],
   "source": [
    "bb1 = data5.groupby('province')['description'].count().nlargest(10)\n",
    "x1 = bb1.index.values\n",
    "y1 = bb1.values\n",
    "plt.figure(figsize = (21,10))\n",
    "plt.rc('font', size = 16)\n",
    "plt.xticks(rotation = - 45 )\n",
    "plt.scatter(x1,y1, marker=r'$\\clubsuit$', color = 'b')"
   ]
  },
  {
   "cell_type": "code",
   "execution_count": 88,
   "metadata": {},
   "outputs": [
    {
     "data": {
      "text/plain": [
       "province\n",
       "Colares                           201.333333\n",
       "Olifants River                    100.000000\n",
       "Santa Cruz                         77.500000\n",
       "Champagne                          76.517649\n",
       "Evia                               75.000000\n",
       "Nevada                             75.000000\n",
       "Rheingau                           73.706173\n",
       "Tokaji                             72.636364\n",
       "Buin                               70.625000\n",
       "Rapel Valley-Casablanca Valley     70.000000\n",
       "Leithaberg                         65.704552\n",
       "Ahr                                65.000000\n",
       "Cape Peninsula                     65.000000\n",
       "Puente Alto                        63.529412\n",
       "Haut-Judeé                         63.000000\n",
       "Burgundy                           60.526106\n",
       "Golan Heights                      60.000000\n",
       "Martinborough Terrace              60.000000\n",
       "Moscatel do Douro                  59.135202\n",
       "Omaka Valley                       59.000000\n",
       "Name: price, dtype: float64"
      ]
     },
     "execution_count": 88,
     "metadata": {},
     "output_type": "execute_result"
    }
   ],
   "source": [
    "temp2 = data5.groupby('province')['price'].mean().nlargest(20)\n",
    "temp2"
   ]
  },
  {
   "cell_type": "code",
   "execution_count": 91,
   "metadata": {},
   "outputs": [
    {
     "data": {
      "text/plain": [
       "([0, 1, 2, 3, 4, 5, 6, 7, 8, 9, 10, 11, 12, 13, 14, 15, 16, 17, 18, 19],\n",
       " <a list of 20 Text xticklabel objects>)"
      ]
     },
     "execution_count": 91,
     "metadata": {},
     "output_type": "execute_result"
    },
    {
     "data": {
      "image/png": "[encoded data removed]",
      "text/plain": [
       "<Figure size 1512x720 with 1 Axes>"
      ]
     },
     "metadata": {
      "needs_background": "light"
     },
     "output_type": "display_data"
    }
   ],
   "source": [
    "temp2 = data5.groupby('province')['price'].mean().nlargest(20)\n",
    "plt.figure(figsize = (21,10))\n",
    "plt.rc('font', size = 16)\n",
    "x1 = temp2.index.values\n",
    "y1 = temp2.values\n",
    "plt.plot(x1, y1)\n",
    "plt.xlabel('province')\n",
    "plt.ylabel('price')\n",
    "plt.xticks(rotation = - 45 )"
   ]
  },
  {
   "cell_type": "code",
   "execution_count": 64,
   "metadata": {},
   "outputs": [
    {
     "name": "stderr",
     "output_type": "stream",
     "text": [
      "C:\\Users\\BIT\\anaconda3\\lib\\site-packages\\ipykernel_launcher.py:1: FutureWarning:\n",
      "\n",
      "Indexing with multiple keys (implicitly converted to a tuple of keys) will be deprecated, use a list instead.\n",
      "\n"
     ]
    },
    {
     "data": {
      "text/html": [
       "<div>\n",
       "<style scoped>\n",
       "    .dataframe tbody tr th:only-of-type {\n",
       "        vertical-align: middle;\n",
       "    }\n",
       "\n",
       "    .dataframe tbody tr th {\n",
       "        vertical-align: top;\n",
       "    }\n",
       "\n",
       "    .dataframe thead th {\n",
       "        text-align: right;\n",
       "    }\n",
       "</style>\n",
       "<table border=\"1\" class=\"dataframe\">\n",
       "  <thead>\n",
       "    <tr style=\"text-align: right;\">\n",
       "      <th></th>\n",
       "      <th>province</th>\n",
       "      <th>points</th>\n",
       "      <th>price</th>\n",
       "    </tr>\n",
       "  </thead>\n",
       "  <tbody>\n",
       "    <tr>\n",
       "      <th>80</th>\n",
       "      <td>Colares</td>\n",
       "      <td>90.666667</td>\n",
       "      <td>201.333333</td>\n",
       "    </tr>\n",
       "  </tbody>\n",
       "</table>\n",
       "</div>"
      ],
      "text/plain": [
       "   province     points       price\n",
       "80  Colares  90.666667  201.333333"
      ]
     },
     "execution_count": 64,
     "metadata": {},
     "output_type": "execute_result"
    }
   ],
   "source": [
    "temp3 = data5.groupby('province')['points', 'price'].mean()\n",
    "tt = temp3.reset_index()\n",
    "tt.loc[tt['province'] == 'Colares',:]"
   ]
  },
  {
   "cell_type": "code",
   "execution_count": 65,
   "metadata": {},
   "outputs": [],
   "source": [
    "bts = data4.loc[:,['price','points']]"
   ]
  },
  {
   "cell_type": "code",
   "execution_count": 66,
   "metadata": {},
   "outputs": [],
   "source": [
    "data4 = data4.reset_index()"
   ]
  },
  {
   "cell_type": "code",
   "execution_count": 67,
   "metadata": {},
   "outputs": [
    {
     "data": {
      "text/plain": [
       "array([[1.],\n",
       "       [1.],\n",
       "       [1.],\n",
       "       ...,\n",
       "       [1.],\n",
       "       [1.],\n",
       "       [1.]])"
      ]
     },
     "execution_count": 67,
     "metadata": {},
     "output_type": "execute_result"
    }
   ],
   "source": [
    "myfunc = lambda x: abs(x)\n",
    "vecfun = np.vectorize(myfunc)\n",
    "\n",
    "from sklearn.preprocessing import Normalizer\n",
    "price  = bts.price.values.reshape(-1,1)\n",
    "points = bts.points.values.reshape(-1,1)\n",
    "pricen = Normalizer().fit(price)\n",
    "pointsn = Normalizer().fit(points)\n",
    "norm_price = pricen.transform(price)\n",
    "norm_points = pointsn.transform(points)\n",
    "norm_price"
   ]
  },
  {
   "cell_type": "code",
   "execution_count": 68,
   "metadata": {},
   "outputs": [],
   "source": [
    "why = bts.describe()"
   ]
  },
  {
   "cell_type": "code",
   "execution_count": 69,
   "metadata": {},
   "outputs": [],
   "source": [
    "why = why.reset_index()"
   ]
  },
  {
   "cell_type": "code",
   "execution_count": 70,
   "metadata": {},
   "outputs": [],
   "source": [
    "pm = why.loc[why['index'] == 'mean',:].price.values\n",
    "poim = why.loc[why['index'] == 'mean',:].points.values"
   ]
  },
  {
   "cell_type": "code",
   "execution_count": 71,
   "metadata": {},
   "outputs": [],
   "source": [
    "ps = why.loc[why['index'] == 'std',:].price.values\n",
    "pois = why.loc[why['index'] == 'std',:].points.values"
   ]
  },
  {
   "cell_type": "code",
   "execution_count": 72,
   "metadata": {
    "scrolled": true
   },
   "outputs": [
    {
     "data": {
      "text/plain": [
       "<matplotlib.collections.PathCollection at 0x1d38cb1da08>"
      ]
     },
     "execution_count": 72,
     "metadata": {},
     "output_type": "execute_result"
    },
    {
     "data": {
      "image/png": "[encoded data removed]",
      "text/plain": [
       "<Figure size 1512x720 with 1 Axes>"
      ]
     },
     "metadata": {
      "needs_background": "light"
     },
     "output_type": "display_data"
    }
   ],
   "source": [
    "temp3 = data5.groupby('points')['price'].mean().nlargest(10)\n",
    "x1 = temp3.index.values\n",
    "y1 = temp3.values\n",
    "plt.figure(figsize = (21,10))\n",
    "plt.rc('font', size = 16)data:image/png;base64,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\n",
    "plt.xticks(rotation = - 45 )\n",
    "plt.scatter(x1,y1, marker=r'$\\clubsuit$', color = 'b')"
   ]
  },
  {
   "cell_type": "code",
   "execution_count": 98,
   "metadata": {},
   "outputs": [
    {
     "data": {
      "text/plain": [
       "Text(0, 0.5, 'price')"
      ]
     },
     "execution_count": 98,
     "metadata": {},
     "output_type": "execute_result"
    },
    {
     "data": {
      "image/png": "[encoded data removed]",
      "text/plain": [
       "<Figure size 1512x720 with 1 Axes>"
      ]
     },
     "metadata": {
      "needs_background": "light"
     },
     "output_type": "display_data"
    }
   ],
   "source": [
    "temp4 = data5.groupby('variety')['price'].mean().nlargest(15)\n",
    "x1 = temp4.index.values\n",
    "y1 = temp4.values\n",
    "plt.figure(figsize = (21,10))\n",
    "plt.rc('font', size = 14)\n",
    "plt.xticks(rotation = - 45 )\n",
    "plt.plot(x1,y1, marker=r'$\\clubsuit$', color = 'red')\n",
    "plt.xlabel('variety')\n",
    "plt.ylabel('price')"
   ]
  },
  {
   "cell_type": "markdown",
   "metadata": {},
   "source": [
    "종속변수: price,  독립변수: province\n",
    "가설1: province는 price에 영향을 미칠 것이다. "
   ]
  },
  {
   "cell_type": "markdown",
   "metadata": {},
   "source": [
    "from sklearn.preprocessing import StandardScaler, LabelEncoder\n",
    "from sklearn.model_selection import train_test_split\n",
    "\n",
    "X_train, X_test, y_train, y_test = train_test_split(X, y, test_size = 0.2, random_state = 42)"
   ]
  },
  {
   "cell_type": "code",
   "execution_count": 188,
   "metadata": {},
   "outputs": [
    {
     "data": {
      "text/html": [
       "<div>\n",
       "<style scoped>\n",
       "    .dataframe tbody tr th:only-of-type {\n",
       "        vertical-align: middle;\n",
       "    }\n",
       "\n",
       "    .dataframe tbody tr th {\n",
       "        vertical-align: top;\n",
       "    }\n",
       "\n",
       "    .dataframe thead th {\n",
       "        text-align: right;\n",
       "    }\n",
       "</style>\n",
       "<table border=\"1\" class=\"dataframe\">\n",
       "  <thead>\n",
       "    <tr style=\"text-align: right;\">\n",
       "      <th></th>\n",
       "      <th>price</th>\n",
       "      <th>points</th>\n",
       "    </tr>\n",
       "  </thead>\n",
       "  <tbody>\n",
       "    <tr>\n",
       "      <th>price</th>\n",
       "      <td>1.000000</td>\n",
       "      <td>0.449507</td>\n",
       "    </tr>\n",
       "    <tr>\n",
       "      <th>points</th>\n",
       "      <td>0.449507</td>\n",
       "      <td>1.000000</td>\n",
       "    </tr>\n",
       "  </tbody>\n",
       "</table>\n",
       "</div>"
      ],
      "text/plain": [
       "           price    points\n",
       "price   1.000000  0.449507\n",
       "points  0.449507  1.000000"
      ]
     },
     "execution_count": 188,
     "metadata": {},
     "output_type": "execute_result"
    }
   ],
   "source": [
    "\n",
    "heat = data5.loc[:,['price','points']]\n",
    "heat.corr()"
   ]
  },
  {
   "cell_type": "code",
   "execution_count": 183,
   "metadata": {},
   "outputs": [
    {
     "data": {
      "text/plain": [
       "Text(0, 0.5, 'price')"
      ]
     },
     "execution_count": 183,
     "metadata": {},
     "output_type": "execute_result"
    },
    {
     "data": {
      "image/png": "[encoded data removed]",
      "text/plain": [
       "<Figure size 1080x936 with 1 Axes>"
      ]
     },
     "metadata": {
      "needs_background": "light"
     },
     "output_type": "display_data"
    }
   ],
   "source": [
    "from sklearn.preprocessing import StandardScaler\n",
    "x12 = data5.points.values.reshape(-1,1)\n",
    "y12 = data5.price.values.reshape(-1,1)\n",
    "\n",
    "\n",
    "plt.figure(figsize = (15,13))\n",
    "plt.scatter(x12,y12,marker=r'$\\clubsuit$', color = 'b')\n",
    "plt.xlabel('points')\n",
    "plt.ylabel('price')"
   ]
  },
  {
   "cell_type": "code",
   "execution_count": null,
   "metadata": {},
   "outputs": [],
   "source": []
  },
  {
   "cell_type": "code",
   "execution_count": 241,
   "metadata": {},
   "outputs": [],
   "source": [
    "from sklearn.model_selection import train_test_split\n",
    "X = data5.price.values\n",
    "y = data5.points.values\n",
    "\n",
    "X_train, X_test, y_train, y_test = train_test_split(X, y, test_size=0.8, random_state=42)"
   ]
  },
  {
   "cell_type": "code",
   "execution_count": 242,
   "metadata": {},
   "outputs": [],
   "source": [
    "X_train = X_train.reshape(-1,1)\n",
    "y_train = y_train.reshape(-1,1)"
   ]
  },
  {
   "cell_type": "code",
   "execution_count": 243,
   "metadata": {},
   "outputs": [],
   "source": [
    "new_data = pd.DataFrame(np.concatenate((X_train,y_train),axis=1), columns = ['price','points'])"
   ]
  },
  {
   "cell_type": "code",
   "execution_count": 244,
   "metadata": {},
   "outputs": [
    {
     "data": {
      "text/html": [
       "<div>\n",
       "<style scoped>\n",
       "    .dataframe tbody tr th:only-of-type {\n",
       "        vertical-align: middle;\n",
       "    }\n",
       "\n",
       "    .dataframe tbody tr th {\n",
       "        vertical-align: top;\n",
       "    }\n",
       "\n",
       "    .dataframe thead th {\n",
       "        text-align: right;\n",
       "    }\n",
       "</style>\n",
       "<table border=\"1\" class=\"dataframe\">\n",
       "  <thead>\n",
       "    <tr style=\"text-align: right;\">\n",
       "      <th></th>\n",
       "      <th>price</th>\n",
       "      <th>points</th>\n",
       "    </tr>\n",
       "  </thead>\n",
       "  <tbody>\n",
       "    <tr>\n",
       "      <th>0</th>\n",
       "      <td>50.0</td>\n",
       "      <td>90.0</td>\n",
       "    </tr>\n",
       "    <tr>\n",
       "      <th>1</th>\n",
       "      <td>16.0</td>\n",
       "      <td>89.0</td>\n",
       "    </tr>\n",
       "    <tr>\n",
       "      <th>2</th>\n",
       "      <td>35.0</td>\n",
       "      <td>87.0</td>\n",
       "    </tr>\n",
       "    <tr>\n",
       "      <th>3</th>\n",
       "      <td>14.0</td>\n",
       "      <td>89.0</td>\n",
       "    </tr>\n",
       "    <tr>\n",
       "      <th>4</th>\n",
       "      <td>35.0</td>\n",
       "      <td>89.0</td>\n",
       "    </tr>\n",
       "    <tr>\n",
       "      <th>...</th>\n",
       "      <td>...</td>\n",
       "      <td>...</td>\n",
       "    </tr>\n",
       "    <tr>\n",
       "      <th>23725</th>\n",
       "      <td>120.0</td>\n",
       "      <td>92.0</td>\n",
       "    </tr>\n",
       "    <tr>\n",
       "      <th>23726</th>\n",
       "      <td>38.0</td>\n",
       "      <td>90.0</td>\n",
       "    </tr>\n",
       "    <tr>\n",
       "      <th>23727</th>\n",
       "      <td>50.0</td>\n",
       "      <td>92.0</td>\n",
       "    </tr>\n",
       "    <tr>\n",
       "      <th>23728</th>\n",
       "      <td>21.0</td>\n",
       "      <td>87.0</td>\n",
       "    </tr>\n",
       "    <tr>\n",
       "      <th>23729</th>\n",
       "      <td>42.0</td>\n",
       "      <td>94.0</td>\n",
       "    </tr>\n",
       "  </tbody>\n",
       "</table>\n",
       "<p>23730 rows × 2 columns</p>\n",
       "</div>"
      ],
      "text/plain": [
       "       price  points\n",
       "0       50.0    90.0\n",
       "1       16.0    89.0\n",
       "2       35.0    87.0\n",
       "3       14.0    89.0\n",
       "4       35.0    89.0\n",
       "...      ...     ...\n",
       "23725  120.0    92.0\n",
       "23726   38.0    90.0\n",
       "23727   50.0    92.0\n",
       "23728   21.0    87.0\n",
       "23729   42.0    94.0\n",
       "\n",
       "[23730 rows x 2 columns]"
      ]
     },
     "execution_count": 244,
     "metadata": {},
     "output_type": "execute_result"
    }
   ],
   "source": [
    "new_data"
   ]
  },
  {
   "cell_type": "code",
   "execution_count": 245,
   "metadata": {},
   "outputs": [
    {
     "name": "stderr",
     "output_type": "stream",
     "text": [
      "C:\\Users\\BIT\\anaconda3\\lib\\site-packages\\statsmodels\\base\\model.py:1832: ValueWarning:\n",
      "\n",
      "covariance of constraints does not have full rank. The number of constraints is 245, but rank is 113\n",
      "\n"
     ]
    },
    {
     "name": "stdout",
     "output_type": "stream",
     "text": [
      "                                                   sum_sq       df  \\\n",
      "C(price, Sum)                                4.548223e+08    245.0   \n",
      "C(partner_status_points, Sum)                1.451858e+05     20.0   \n",
      "C(price, Sum):C(partner_status_points, Sum)  2.131143e+08   4900.0   \n",
      "Residual                                     5.844482e-18  22218.0   \n",
      "\n",
      "                                                        F  PR(>F)  \n",
      "C(price, Sum)                                7.057235e+27     0.0  \n",
      "C(partner_status_points, Sum)                2.759645e+25     0.0  \n",
      "C(price, Sum):C(partner_status_points, Sum)  1.653390e+26     0.0  \n",
      "Residual                                              NaN     NaN  \n"
     ]
    },
    {
     "name": "stderr",
     "output_type": "stream",
     "text": [
      "C:\\Users\\BIT\\anaconda3\\lib\\site-packages\\statsmodels\\base\\model.py:1832: ValueWarning:\n",
      "\n",
      "covariance of constraints does not have full rank. The number of constraints is 4900, but rank is 1512\n",
      "\n"
     ]
    }
   ],
   "source": [
    "import statsmodels.api as sm\n",
    "from statsmodels.formula.api import ols\n",
    "\n",
    "new_data = new_data.rename(columns={\"points\" :\n",
    "                             \"partner_status_points\"}) # make name pythonic\n",
    "moore_lm = ols('price ~ C(price, Sum)*C(partner_status_points, Sum)',\n",
    "                 data=new_data).fit()\n",
    "table = sm.stats.anova_lm(moore_lm, typ=2) # Type 2 Anova DataFrame\n",
    "print(table)"
   ]
  },
  {
   "cell_type": "code",
   "execution_count": 247,
   "metadata": {},
   "outputs": [],
   "source": [
    "new_data = new_data.rename(columns={\"partner_status_points\" :\n",
    "                             \"points\"})"
   ]
  },
  {
   "cell_type": "code",
   "execution_count": null,
   "metadata": {},
   "outputs": [],
   "source": []
  }
 ],
 "metadata": {
  "kernelspec": {
   "display_name": "Python 3",
   "language": "python",
   "name": "python3"
  },
  "language_info": {
   "codemirror_mode": {
    "name": "ipython",
    "version": 3
   },
   "file_extension": ".py",
   "mimetype": "text/x-python",
   "name": "python",
   "nbconvert_exporter": "python",
   "pygments_lexer": "ipython3",
   "version": "3.7.6"
  }
 },
 "nbformat": 4,
 "nbformat_minor": 4
}
